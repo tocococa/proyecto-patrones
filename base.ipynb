{
  "cells": [
    {
      "cell_type": "code",
      "execution_count": 1,
      "metadata": {
        "id": "j2A7EsDgUZWE"
      },
      "outputs": [],
      "source": [
        "import cv2\n",
        "import os\n",
        "import numpy as np\n",
        "import PIL as pil\n",
        "from tqdm import tqdm"
      ]
    },
    {
      "cell_type": "code",
      "source": [
        "import os\n",
        "from google.colab import drive\n",
        "drive.mount('/content/drive', force_remount=True)"
      ],
      "metadata": {
        "colab": {
          "base_uri": "https://localhost:8080/"
        },
        "id": "BQjqoOMgV4TI",
        "outputId": "7f2fcc60-4f8b-4d35-e291-7c0d08e5f9ab"
      },
      "execution_count": 2,
      "outputs": [
        {
          "output_type": "stream",
          "name": "stdout",
          "text": [
            "Mounted at /content/drive\n"
          ]
        }
      ]
    },
    {
      "cell_type": "markdown",
      "source": [
        "## Drive files\n",
        "\n",
        "1. Aceptar invitación a la unidad compartida Patrones2022\n",
        "\n",
        "2. Abrir la unidad, y sobre la carpeta `home`, hacer click derecho y luego \"Añadir acceso directo a Drive\".\n",
        "\n",
        "Si eso funcionó, al ejecutar la siguiente celda, debería verse `db_caracteristicas raw_database  trained_models` en el output."
      ],
      "metadata": {
        "id": "culpx2NQWV_H"
      }
    },
    {
      "cell_type": "code",
      "source": [
        "HOME = \"/content/drive/My Drive/home/\"\n",
        "!ls \"{HOME}\""
      ],
      "metadata": {
        "colab": {
          "base_uri": "https://localhost:8080/"
        },
        "id": "1Sq2Th8bWRgp",
        "outputId": "21c233c6-7bc2-41b7-c385-76bbbc5286b6"
      },
      "execution_count": 3,
      "outputs": [
        {
          "output_type": "stream",
          "name": "stdout",
          "text": [
            "db_caracteristicas  raw_database  trained_models\n"
          ]
        }
      ]
    },
    {
      "cell_type": "code",
      "source": [
        "!ls \"{HOME}/raw_database\""
      ],
      "metadata": {
        "colab": {
          "base_uri": "https://localhost:8080/"
        },
        "id": "Cki2PHBWyK_k",
        "outputId": "ecd81426-d6a4-46f7-caf4-5f238af627d4"
      },
      "execution_count": 5,
      "outputs": [
        {
          "output_type": "stream",
          "name": "stdout",
          "text": [
            "Bicicletas  Cachipun  Espinas  Letras  Lunares\n"
          ]
        }
      ]
    },
    {
      "cell_type": "code",
      "execution_count": 32,
      "metadata": {
        "id": "U5ZXIY4JUZWL"
      },
      "outputs": [],
      "source": [
        "def LoadImage(path: str, cmap: str = 'gray', echo: bool = True) -> np.ndarray:\n",
        "    \"\"\"\n",
        "    Load an image from a path\n",
        "    \"\"\"\n",
        "    if cmap == 'gray':\n",
        "      cflag = cv2.IMREAD_GRAYSCALE\n",
        "    elif cmap == 'rgb':\n",
        "      cflag = cv2.IMREAD_COLOR\n",
        "    else:\n",
        "      print(f\"{cmap} is not a valid option\")\n",
        "      raise AttributeError\n",
        "    print(\"Image: \" + path)\n",
        "    img = cv2.imread(path, cflag)\n",
        "    print(\"Image size:\", img.shape)\n",
        "    return img\n",
        "\n",
        "\n",
        "def NofClasses(path: str) -> int:\n",
        "    \"\"\"\n",
        "    Get the classes in a directory\n",
        "    \"\"\"\n",
        "    return len(os.listdir(path)) - 1\n",
        "\n",
        "\n",
        "def NofSamples(path: str) -> list:\n",
        "    \"\"\"\n",
        "    Get the number of samples for each class\n",
        "    \"\"\"\n",
        "    samples = []\n",
        "    for subdir in os.listdir(path):\n",
        "        samples.append(len(os.listdir(path + subdir)))\n",
        "    return samples\n",
        "\n",
        "\n",
        "def BuildDataset(path: str, cmap: str = 'gray', echo: bool = False) -> tuple:\n",
        "    \"\"\"\n",
        "    Build a dataset from a directory, returns a tuple (X, y, #clas, [#sam])\n",
        "    \"\"\"\n",
        "    def GetImgDim(path: str) -> tuple:\n",
        "      for dir in os.listdir(path):\n",
        "        for fil in os.listdir(path+dir):\n",
        "          return LoadImage(path + dir + '/' + fil, cmap=cmap, echo=echo).shape\n",
        "    imdim = GetImgDim(path)\n",
        "    if echo:\n",
        "      print(f\"Image size: {imdim}\")\n",
        "    classes = NofClasses(path)\n",
        "    samples = NofSamples(path)\n",
        "    Xsam = np.zeros((sum(samples), *imdim))\n",
        "    Ysam = np.zeros((sum(samples), 1))\n",
        "    i = 0\n",
        "    ii = 0\n",
        "    echo = True\n",
        "    for dir in os.listdir(path):\n",
        "        for fil in tqdm(os.listdir(path + dir)):\n",
        "            Xsam[ii] = LoadImage(path + dir + '/' + fil, cmap=cmap, echo=echo)\n",
        "            echo = False\n",
        "            Ysam[ii] = i\n",
        "            ii += 1\n",
        "        i += 1\n",
        "    return (Xsam, Ysam, classes, samples)\n",
        "    "
      ]
    },
    {
      "cell_type": "code",
      "source": [
        "out = BuildDataset(f\"{HOME}raw_database/Letras/\", echo=True)\n",
        "Xasam, Ysam, clas, sam = out"
      ],
      "metadata": {
        "colab": {
          "base_uri": "https://localhost:8080/",
          "height": 444
        },
        "id": "dss93f4xx_nG",
        "outputId": "015790ab-8d2b-43b3-cd86-5b8123f4d8a6"
      },
      "execution_count": 33,
      "outputs": [
        {
          "output_type": "stream",
          "name": "stdout",
          "text": [
            "Image: /content/drive/My Drive/home/raw_database/Letras/01_Letra_X/char_01_082.png\n",
            "Image size: (147, 108)\n",
            "Image size: (147, 108)\n"
          ]
        },
        {
          "output_type": "stream",
          "name": "stderr",
          "text": [
            "\r  0%|          | 0/91 [00:00<?, ?it/s]"
          ]
        },
        {
          "output_type": "stream",
          "name": "stdout",
          "text": [
            "Image: /content/drive/My Drive/home/raw_database/Letras/01_Letra_X/char_01_082.png\n",
            "Image size: (147, 108)\n",
            "Image: /content/drive/My Drive/home/raw_database/Letras/01_Letra_X/char_01_041.png\n"
          ]
        },
        {
          "output_type": "stream",
          "name": "stderr",
          "text": [
            "\r  1%|          | 1/91 [00:00<00:25,  3.57it/s]"
          ]
        },
        {
          "output_type": "stream",
          "name": "stdout",
          "text": [
            "Image size: (122, 99)\n"
          ]
        },
        {
          "output_type": "stream",
          "name": "stderr",
          "text": [
            "\n"
          ]
        },
        {
          "output_type": "error",
          "ename": "ValueError",
          "evalue": "ignored",
          "traceback": [
            "\u001b[0;31m---------------------------------------------------------------------------\u001b[0m",
            "\u001b[0;31mValueError\u001b[0m                                Traceback (most recent call last)",
            "\u001b[0;32m<ipython-input-33-51c8607ec00c>\u001b[0m in \u001b[0;36m<module>\u001b[0;34m()\u001b[0m\n\u001b[0;32m----> 1\u001b[0;31m \u001b[0mout\u001b[0m \u001b[0;34m=\u001b[0m \u001b[0mBuildDataset\u001b[0m\u001b[0;34m(\u001b[0m\u001b[0;34mf\"{HOME}raw_database/Letras/\"\u001b[0m\u001b[0;34m,\u001b[0m \u001b[0mecho\u001b[0m\u001b[0;34m=\u001b[0m\u001b[0;32mTrue\u001b[0m\u001b[0;34m)\u001b[0m\u001b[0;34m\u001b[0m\u001b[0;34m\u001b[0m\u001b[0m\n\u001b[0m\u001b[1;32m      2\u001b[0m \u001b[0mXasam\u001b[0m\u001b[0;34m,\u001b[0m \u001b[0mYsam\u001b[0m\u001b[0;34m,\u001b[0m \u001b[0mclas\u001b[0m\u001b[0;34m,\u001b[0m \u001b[0msam\u001b[0m \u001b[0;34m=\u001b[0m \u001b[0mout\u001b[0m\u001b[0;34m\u001b[0m\u001b[0;34m\u001b[0m\u001b[0m\n",
            "\u001b[0;32m<ipython-input-32-10d22d339a5e>\u001b[0m in \u001b[0;36mBuildDataset\u001b[0;34m(path, cmap, echo)\u001b[0m\n\u001b[1;32m     53\u001b[0m     \u001b[0;32mfor\u001b[0m \u001b[0mdir\u001b[0m \u001b[0;32min\u001b[0m \u001b[0mos\u001b[0m\u001b[0;34m.\u001b[0m\u001b[0mlistdir\u001b[0m\u001b[0;34m(\u001b[0m\u001b[0mpath\u001b[0m\u001b[0;34m)\u001b[0m\u001b[0;34m:\u001b[0m\u001b[0;34m\u001b[0m\u001b[0;34m\u001b[0m\u001b[0m\n\u001b[1;32m     54\u001b[0m         \u001b[0;32mfor\u001b[0m \u001b[0mfil\u001b[0m \u001b[0;32min\u001b[0m \u001b[0mtqdm\u001b[0m\u001b[0;34m(\u001b[0m\u001b[0mos\u001b[0m\u001b[0;34m.\u001b[0m\u001b[0mlistdir\u001b[0m\u001b[0;34m(\u001b[0m\u001b[0mpath\u001b[0m \u001b[0;34m+\u001b[0m \u001b[0mdir\u001b[0m\u001b[0;34m)\u001b[0m\u001b[0;34m)\u001b[0m\u001b[0;34m:\u001b[0m\u001b[0;34m\u001b[0m\u001b[0;34m\u001b[0m\u001b[0m\n\u001b[0;32m---> 55\u001b[0;31m             \u001b[0mXsam\u001b[0m\u001b[0;34m[\u001b[0m\u001b[0mii\u001b[0m\u001b[0;34m]\u001b[0m \u001b[0;34m=\u001b[0m \u001b[0mLoadImage\u001b[0m\u001b[0;34m(\u001b[0m\u001b[0mpath\u001b[0m \u001b[0;34m+\u001b[0m \u001b[0mdir\u001b[0m \u001b[0;34m+\u001b[0m \u001b[0;34m'/'\u001b[0m \u001b[0;34m+\u001b[0m \u001b[0mfil\u001b[0m\u001b[0;34m,\u001b[0m \u001b[0mcmap\u001b[0m\u001b[0;34m=\u001b[0m\u001b[0mcmap\u001b[0m\u001b[0;34m,\u001b[0m \u001b[0mecho\u001b[0m\u001b[0;34m=\u001b[0m\u001b[0mecho\u001b[0m\u001b[0;34m)\u001b[0m\u001b[0;34m\u001b[0m\u001b[0;34m\u001b[0m\u001b[0m\n\u001b[0m\u001b[1;32m     56\u001b[0m             \u001b[0mecho\u001b[0m \u001b[0;34m=\u001b[0m \u001b[0;32mFalse\u001b[0m\u001b[0;34m\u001b[0m\u001b[0;34m\u001b[0m\u001b[0m\n\u001b[1;32m     57\u001b[0m             \u001b[0mYsam\u001b[0m\u001b[0;34m[\u001b[0m\u001b[0mii\u001b[0m\u001b[0;34m]\u001b[0m \u001b[0;34m=\u001b[0m \u001b[0mi\u001b[0m\u001b[0;34m\u001b[0m\u001b[0;34m\u001b[0m\u001b[0m\n",
            "\u001b[0;31mValueError\u001b[0m: could not broadcast input array from shape (122,99) into shape (147,108)"
          ]
        }
      ]
    }
  ],
  "metadata": {
    "interpreter": {
      "hash": "6189f557f5bc4df41e92f7a00b3721572a07e07697aeafd1cb02e690e443f281"
    },
    "kernelspec": {
      "display_name": "Python 3.9.4 64-bit",
      "language": "python",
      "name": "python3"
    },
    "language_info": {
      "codemirror_mode": {
        "name": "ipython",
        "version": 3
      },
      "file_extension": ".py",
      "mimetype": "text/x-python",
      "name": "python",
      "nbconvert_exporter": "python",
      "pygments_lexer": "ipython3",
      "version": "3.9.4"
    },
    "orig_nbformat": 4,
    "colab": {
      "name": "base.ipynb",
      "provenance": []
    }
  },
  "nbformat": 4,
  "nbformat_minor": 0
}