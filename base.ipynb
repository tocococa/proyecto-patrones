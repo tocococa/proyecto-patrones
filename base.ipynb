{
  "cells": [
    {
      "cell_type": "code",
      "execution_count": 1,
      "metadata": {
        "id": "j2A7EsDgUZWE"
      },
      "outputs": [],
      "source": [
        "import cv2\n",
        "import os\n",
        "import pickle\n",
        "import numpy as np\n",
        "import PIL as pil\n",
        "from tqdm.auto import tqdm"
      ]
    },
    {
      "cell_type": "code",
      "source": [
        "import os\n",
        "from google.colab import drive\n",
        "drive.mount('/content/drive', force_remount=True)"
      ],
      "metadata": {
        "colab": {
          "base_uri": "https://localhost:8080/"
        },
        "id": "BQjqoOMgV4TI",
        "outputId": "6ba4d81f-7cf5-4043-f790-7cfeb112682a"
      },
      "execution_count": 2,
      "outputs": [
        {
          "output_type": "stream",
          "name": "stdout",
          "text": [
            "Mounted at /content/drive\n"
          ]
        }
      ]
    },
    {
      "cell_type": "markdown",
      "source": [
        "## Drive files\n",
        "\n",
        "1. Aceptar invitación a la unidad compartida Patrones2022\n",
        "\n",
        "2. Abrir la unidad, y sobre la carpeta `home`, hacer click derecho y luego \"Añadir acceso directo a Drive\".\n",
        "\n",
        "Si eso funcionó, al ejecutar la siguiente celda, debería verse `db_caracteristicas raw_database  trained_models` en el output."
      ],
      "metadata": {
        "id": "culpx2NQWV_H"
      }
    },
    {
      "cell_type": "code",
      "source": [
        "HOME = \"/content/drive/My Drive/home/\"\n",
        "!ls \"{HOME}\""
      ],
      "metadata": {
        "colab": {
          "base_uri": "https://localhost:8080/"
        },
        "id": "1Sq2Th8bWRgp",
        "outputId": "8796b2ba-8d4b-43c3-e5d1-f83874d65ea6"
      },
      "execution_count": 3,
      "outputs": [
        {
          "output_type": "stream",
          "name": "stdout",
          "text": [
            "pickled_database  pickled_features  raw_database  sample_data  trained_models\n"
          ]
        }
      ]
    },
    {
      "cell_type": "code",
      "source": [
        "!ls \"{HOME}/raw_database\""
      ],
      "metadata": {
        "colab": {
          "base_uri": "https://localhost:8080/"
        },
        "id": "Cki2PHBWyK_k",
        "outputId": "aa951d3b-5be1-4ae8-f637-921f05e6cd08"
      },
      "execution_count": 4,
      "outputs": [
        {
          "output_type": "stream",
          "name": "stdout",
          "text": [
            "Bicicletas  Cachipun  Espinas  Letras  Lunares\n"
          ]
        }
      ]
    },
    {
      "cell_type": "code",
      "execution_count": 5,
      "metadata": {
        "id": "U5ZXIY4JUZWL"
      },
      "outputs": [],
      "source": [
        "def LoadImage(path: str, cmap: str = 'gray', echo: bool = True) -> np.ndarray:\n",
        "    \"\"\"\n",
        "    Load an image from a path\n",
        "    \"\"\"\n",
        "    if cmap == 'gray':\n",
        "      cflag = cv2.IMREAD_GRAYSCALE\n",
        "    elif cmap == 'rgb':\n",
        "      cflag = cv2.IMREAD_COLOR\n",
        "    else:\n",
        "      print(f\"{cmap} is not a valid option\")\n",
        "      raise AttributeError\n",
        "    if echo:\n",
        "      print(\"Image: \" + path)\n",
        "    img = cv2.imread(path, cflag)\n",
        "    if echo:\n",
        "      print(\"Image size:\", img.shape)\n",
        "    return img\n",
        "\n",
        "\n",
        "def NofClasses(path: str) -> int:\n",
        "    \"\"\"\n",
        "    Get the classes in a directory\n",
        "    \"\"\"\n",
        "    return len(os.listdir(path)) - 1\n",
        "\n",
        "\n",
        "def NofSamples(path: str) -> list:\n",
        "    \"\"\"\n",
        "    Get the number of samples for each class\n",
        "    \"\"\"\n",
        "    samples = []\n",
        "    for subdir in os.listdir(path):\n",
        "        samples.append(len(os.listdir(path + subdir)))\n",
        "    return samples\n",
        "\n",
        "\n",
        "def GetMinDim(path: str) -> tuple:\n",
        "  \"\"\"\n",
        "  Returns the smallest dimensions from every image in path.\n",
        "  Path must be a nonempty folder, with at least one folder with images.\n",
        "  \"\"\"\n",
        "  minh = None\n",
        "  minw = None\n",
        "  for dir in os.listdir(path):\n",
        "    for fil in os.listdir(path+dir):\n",
        "      h, w = LoadImage(path + dir + '/' + fil, cmap=cmap, echo=echo).shape\n",
        "      if not minh or h < minh:\n",
        "        minh = h\n",
        "      if not minw or w < minw:\n",
        "        minw = w\n",
        "      break\n",
        "  return (minw, minh)\n",
        "\n",
        "\n",
        "def BuildDataset(path: str, cmap: str = 'gray', echo: bool = False) -> tuple:\n",
        "    \"\"\"\n",
        "    Build a dataset from a directory, returns a tuple (X, y, #clas, [#sam])\n",
        "    \"\"\"\n",
        "    imdim = GetMinDim(path)\n",
        "    if echo:\n",
        "      print(f\"Smallest image size: {imdim}\")\n",
        "    classes = NofClasses(path)\n",
        "    samples = NofSamples(path)\n",
        "    Xsam = np.zeros((sum(samples), imdim[1], imdim[0]))\n",
        "    Ysam = np.zeros((sum(samples), 1))\n",
        "    i = 0\n",
        "    ii = 0\n",
        "    echo = True\n",
        "    for dir in os.listdir(path):\n",
        "        for fil in tqdm(os.listdir(path + dir)):\n",
        "            if fil == '.DS_Store':\n",
        "              continue\n",
        "            img = LoadImage(path + dir + '/' + fil, cmap=cmap, echo=echo)\n",
        "            img = cv2.resize(img, imdim, interpolation = cv2.INTER_AREA) \n",
        "            Xsam[ii] = img\n",
        "            echo = False\n",
        "            Ysam[ii] = i\n",
        "            ii += 1\n",
        "        i += 1\n",
        "    return (Xsam, Ysam, classes, samples)\n",
        "    "
      ]
    },
    {
      "cell_type": "code",
      "source": [
        "%%script echo skipping\n",
        "\n",
        "datasets = [\"Bicicletas\", \"Cachipun\", \"Espinas\", \"Letras\", \"Lunares\"]\n",
        "\n",
        "for DSNAME in datasets:\n",
        "  out = BuildDataset(f\"{HOME}raw_database/{DSNAME}/\", echo=True)\n",
        "  Xsam, Ysam, clas, sam = out\n",
        "\n",
        "  pick_insert = open(f'{HOME}pickled_database/{DSNAME}/Xsam.pkl', 'wb')\n",
        "  pickle.dump(Xasam, pick_insert)\n",
        "  pick_insert.close()\n",
        "\n",
        "  pick_insert = open(f'{HOME}pickled_database/{DSNAME}/Ysam.pkl', 'wb')\n",
        "  pickle.dump(Ysam, pick_insert)\n",
        "  pick_insert.close()\n",
        "\n",
        "  pick_insert = open(f'{HOME}pickled_database/{DSNAME}/clas.pkl', 'wb')\n",
        "  pickle.dump(clas, pick_insert)\n",
        "  pick_insert.close()\n",
        "\n",
        "  pick_insert = open(f'{HOME}pickled_database/{DSNAME}/sam.pkl', 'wb')\n",
        "  pickle.dump(sam, pick_insert)\n",
        "  pick_insert.close()"
      ],
      "metadata": {
        "colab": {
          "base_uri": "https://localhost:8080/"
        },
        "id": "dss93f4xx_nG",
        "outputId": "90558fb2-2d1d-49a1-fc95-fc52897fc280"
      },
      "execution_count": 6,
      "outputs": [
        {
          "output_type": "stream",
          "name": "stdout",
          "text": [
            "skipping\n"
          ]
        }
      ]
    },
    {
      "cell_type": "code",
      "source": [
        ""
      ],
      "metadata": {
        "id": "LlmrFWZ8hUnv"
      },
      "execution_count": 6,
      "outputs": []
    },
    {
      "cell_type": "markdown",
      "source": [
        "## Bloque 4\n",
        "- Split Train-Validation\n",
        "- Aplicación secuencial de alguna selección/transformación\n",
        "  - Clean\n",
        "  - MinMax Scaling\n",
        "  - SelectKBest\n",
        "  - SFS\n",
        "  - PCA\n",
        "  - ICA"
      ],
      "metadata": {
        "id": "N1flNF6VEERS"
      }
    },
    {
      "cell_type": "code",
      "source": [
        "from IPython.display import clear_output\n",
        "!pip3 install scipy==1.2\n",
        "!pip3 install pybalu==0.2.5\n",
        "clear_output()"
      ],
      "metadata": {
        "id": "rYji24WdF6Pe"
      },
      "execution_count": 7,
      "outputs": []
    },
    {
      "cell_type": "code",
      "source": [
        "from sklearn.model_selection import train_test_split\n",
        "from pybalu.feature_selection import clean\n",
        "from sklearn.preprocessing import MinMaxScaler\n",
        "from sklearn.feature_selection import SelectKBest, chi2\n",
        "from pybalu.feature_selection import sfs\n",
        "from sklearn.decomposition import PCA, FastICA"
      ],
      "metadata": {
        "id": "NVNNFHwbKdeh"
      },
      "execution_count": 8,
      "outputs": []
    },
    {
      "cell_type": "code",
      "source": [
        "class CleanInterface:\n",
        "\n",
        "  def __init__(self, X):\n",
        "    self.model = clean(X)\n",
        "\n",
        "  def transform(self, X):\n",
        "    return X[:, self.model]\n",
        "\n",
        "class SFSInterface:\n",
        "\n",
        "  def __init__(self, X, y, s):\n",
        "    self.model = sfs(X, y, s, show=False)\n",
        "\n",
        "  def transform(self, X):\n",
        "    return X[:, self.model]"
      ],
      "metadata": {
        "id": "wPSGbmLbOndK"
      },
      "execution_count": 9,
      "outputs": []
    },
    {
      "cell_type": "code",
      "source": [
        "class Block4:\n",
        "\n",
        "  def __init__(self, X, y, sequence, ratio=0.3):\n",
        "\n",
        "    self.sequence = sequence\n",
        "\n",
        "    self.models = []\n",
        "\n",
        "    self.Xtrain, self.Xval, self.ytrain, self.yval = train_test_split(np.array(X), y, test_size=ratio, random_state=42, stratify=y)\n",
        "\n",
        "    self.Xtrain = self.interative_fit()\n",
        "    self.Xval = self.transform(self.Xval)\n",
        "\n",
        "  def interative_fit(self):\n",
        "\n",
        "    X = self.Xtrain\n",
        "\n",
        "    for seq in self.sequence:\n",
        "\n",
        "      name = seq.split('-')[0]\n",
        "\n",
        "      if name == 'CLEAN':\n",
        "        model = CleanInterface(X)\n",
        "      elif name == 'MINMAX':\n",
        "        model = MinMaxScaler().fit(X)\n",
        "      else: \n",
        "        param = int(seq.split('-')[1])\n",
        "        if name == 'KBEST':\n",
        "          model = SelectKBest(chi2, k=param).fit(X, self.ytrain)\n",
        "        elif name == 'SFS':\n",
        "          model = SFSInterface(X, self.ytrain, param)\n",
        "        elif name == 'PCA':\n",
        "          model = PCA(n_components=param).fit(X)\n",
        "        elif name == 'ICA':\n",
        "          model = FastICA(n_components=param, random_state=0).fit(X, self.ytrain)\n",
        "        else:\n",
        "          model = None\n",
        "          print(f'No existe el modelo {name}')\n",
        "\n",
        "      self.models.append(model)\n",
        "      X = model.transform(X)\n",
        "\n",
        "    return X\n",
        "  \n",
        "  def transform(self, X):\n",
        "\n",
        "    for model in self.models:\n",
        "      X = model.transform(X)\n",
        "    return X"
      ],
      "metadata": {
        "id": "qYdP2hn7GEeo"
      },
      "execution_count": 10,
      "outputs": []
    },
    {
      "cell_type": "code",
      "source": [
        "# DATOS DE PRUEBA\n",
        "# !gdown --id 1CA-l9_JjdjG_4kTuavKf8Wm27dt0jyqT\n",
        "# clear_output()\n",
        "\n",
        "# f = open('data.p', \"rb\")\n",
        "# data = pickle.load(f)\n",
        "# X = data['train']\n",
        "\n",
        "# y = np.array([0 if i < 7000 else 1 for i in range(0, 14000)])\n",
        "\n",
        "# X.shape, len(y)"
      ],
      "metadata": {
        "id": "e3N8G2DVGJiA"
      },
      "execution_count": 11,
      "outputs": []
    },
    {
      "cell_type": "markdown",
      "source": [
        "## Bloque 5"
      ],
      "metadata": {
        "id": "07xElctRVBzE"
      }
    },
    {
      "cell_type": "markdown",
      "source": [
        "<div align=\"center\">\n",
        "<img src=\"https://i.imgur.com/jxpf9U9.png\"></img>\n",
        "</div>"
      ],
      "metadata": {
        "id": "X1ZghR3tdv6-"
      }
    },
    {
      "cell_type": "markdown",
      "source": [
        "### Modo de uso\n",
        "\n",
        "**Block5 recibe dos elementos:**\n",
        "\n",
        "- **blocks**: lista de instancias de la clase `Block4`\n",
        "- **sequence**: lista de strings\n",
        "\n",
        "Para sequence, un elemento de la lista puede verse así:\n",
        "\n",
        "`FOREST-max_depth:3-n_estimators:100`\n",
        "\n",
        "Es decir: `{CLASSIFIER_NAME}-{PARAM_1_NAME}:{PARAM_1_VALUE}-{PARAM_2_NAME}:{PARAM_2_VALUE}`\n",
        "\n",
        "Puede que un Clasificador no tenga parámetros (como `QDA`). En ese caso basta sólo con el nombre.\n",
        "\n",
        "El mapping de nombre --> clasificador se aprecia en `self.classifiers` de `Block5`. Ahí mismo, se aprecian los `kwargs`, es decir los parámetros que recibe el constructor de dicho clasificador.\n",
        "\n",
        "Kwargs son los parámetros permitidos a personalizar. Lo demás será default.\n",
        "Hay casos donde estos parámetros son obligatorios, y otros donde no.\n",
        "A modo de maximizar el accuracy y evitar errores, ojalá todos estén presentes (mayor personalización).\n",
        "\n",
        "Al momento de instanciar el bloque, inmediatamente se comienza el proceso de búsqueda y validación del mejor modelo.\n",
        "Al terminar, en el atributo `best_classifier` queda guardado el mejor clasificador. Es decir, una tupla de:\n",
        "\n",
        "`final_accuracy: float, <block4>: Block4, clf_class: object, params: dict`\n",
        "\n",
        "\n",
        "\n"
      ],
      "metadata": {
        "id": "52ZbiHyDMbNF"
      }
    },
    {
      "cell_type": "code",
      "source": [
        "from sklearn.neighbors import KNeighborsClassifier, NearestCentroid\n",
        "\n",
        "from sklearn.svm import SVC\n",
        "\n",
        "from sklearn.tree import DecisionTreeClassifier\n",
        "from sklearn.ensemble import RandomForestClassifier\n",
        "from sklearn.naive_bayes import GaussianNB\n",
        "\n",
        "from sklearn.discriminant_analysis import QuadraticDiscriminantAnalysis\n",
        "\n",
        "from sklearn.metrics import accuracy_score\n",
        "from sklearn.model_selection import cross_val_score"
      ],
      "metadata": {
        "id": "g2pR6WRSllkP"
      },
      "execution_count": 12,
      "outputs": []
    },
    {
      "cell_type": "code",
      "source": [
        "from typing import List\n",
        "\n",
        "class Params:\n",
        "    N_FOLDS = 10\n",
        "\n",
        "class Block5:\n",
        "\n",
        "  def __init__(self, blocks: List['Block4'], sequence: List[str]):\n",
        "\n",
        "    self.blocks = blocks\n",
        "    self.sequence = sequence\n",
        "\n",
        "    # Kwargs son los parámetros permitidos a personalizar. Lo demás será default.\n",
        "    # Hay casos donde estos parámetros son obligatorios, y otros donde no.\n",
        "    # A modo de maximizar el accuracy y evitar errores, ojalá todos estén presentes (mayor personalización).\n",
        "    self.classifiers = {\n",
        "          \"KNN\": {\"clf\": KNeighborsClassifier, \"kwargs\": [\"n_neighbors\"]},\n",
        "          \"DMIN\": {\"clf\": NearestCentroid, \"kwargs\": []},\n",
        "          \"SVC\": {\"clf\": SVC, \"kwargs\": [\"kernel\", \"C\", \"gamma\"]},\n",
        "          \"TREE\": {\"clf\": DecisionTreeClassifier, \"kwargs\": [\"max_depth\"]},\n",
        "          \"FOREST\": {\"clf\": RandomForestClassifier, \"kwargs\": [\"max_depth\", \"n_estimators\"]},\n",
        "          \"NBAYES\": {\"clf\": GaussianNB, \"kwargs\": []},\n",
        "          \"QDA\": {\"clf\": QuadraticDiscriminantAnalysis, \"kwargs\": []},\n",
        "    }\n",
        "\n",
        "    self.best_classifier = self.interative_classify()\n",
        "\n",
        "  def interative_classify(self):\n",
        "\n",
        "    N = {}\n",
        "\n",
        "    for block in self.blocks:\n",
        "      for seq in self.sequence:\n",
        "        \n",
        "        # \"FOREST-max_depth:3-n_estimators:100\" --> [\"FOREST\", \"max_depth:3-n_estimators:100\"]\n",
        "        splitted_seq = seq.split('-')\n",
        "        # name = \"FOREST\"\n",
        "        name = splitted_seq[0]\n",
        "        # params = [[\"max_depth\", \"3\"], [\"n_estimators\", \"100\"]]\n",
        "        params = [clf.split(\":\") for clf in splitted_seq[1:]] if len(splitted_seq) > 1 else []\n",
        "\n",
        "        clf_info = self.classifiers[name]\n",
        "        # RandomForestClassifier\n",
        "        clf_class = clf_info[\"clf\"]\n",
        "\n",
        "        if name == \"SVC\": # necesita tipos de datos especiales\n",
        "          param_types = {\"kernel\": str, \"C\": float, \"gamma\": int}\n",
        "          params = {param_name: param_types[param_name](param_value) for param_name, param_value in params}\n",
        "        else: # en caso contrario, todo parámetro se trata como <int>\n",
        "          params = {param_name: int(param_value) for param_name, param_value in params}\n",
        "\n",
        "        crossval_score = self.cross_validation(block.Xtrain, block.ytrain, clf_class, params)\n",
        "        N[crossval_score] = (block, clf_class, params)\n",
        "\n",
        "    # se obtiene el clasificador con mayor score en cross_validation\n",
        "    max_n = max(N.keys())\n",
        "    block, clf_class, params = N[max_n]\n",
        "\n",
        "    final_accuracy = self.hold_out(block.Xtrain, block.ytrain,\n",
        "                                   block.Xval, block.yval,\n",
        "                                   clf_class, params)\n",
        "    \n",
        "    return (final_accuracy, block, clf_class, params)\n",
        "\n",
        "\n",
        "  def hold_out(self, X_train, y_train, X_test, y_test, clf, params) -> float:\n",
        "    \"\"\" Retorna accuracy score al entrenar el clasificador en Train y probarlo en Test\"\"\"\n",
        "    clf = clf(**params)\n",
        "    fitted_clf = clf.fit(X_train, y_train)\n",
        "    y_pred = fitted_clf.predict(X_test)\n",
        "\n",
        "    return accuracy_score(y_test, y_pred)\n",
        "\n",
        "  def cross_validation(self, X_train, y_train, clf, params, n_folds=Params.N_FOLDS) -> float:\n",
        "    \"\"\" Retorna score de validación cruzada\"\"\"\n",
        "    cv_scores = cross_val_score(clf(**params), X_train, y_train, cv=n_folds)\n",
        "    return cv_scores.mean()"
      ],
      "metadata": {
        "id": "GpSa2sgJdyvU"
      },
      "execution_count": 13,
      "outputs": []
    },
    {
      "cell_type": "code",
      "source": [
        "# USADO PARA DATOS SAMPLE EN EJEMPLO\n",
        "\n",
        "import pickle\n",
        "\n",
        "\n",
        "def dump_sample_block4():\n",
        "  with open('block4_A.pkl', 'wb') as handle:\n",
        "      pickle.dump(block_A, handle)\n",
        "  \n",
        "  with open('block4_B.pkl', 'wb') as handle:\n",
        "    pickle.dump(block_B, handle)\n",
        "\n",
        "  with open('block4_C.pkl', 'wb') as handle:\n",
        "    pickle.dump(block_C, handle)\n",
        "\n",
        "\n",
        "def load_sample_block4():\n",
        "  base_path: str = \"/content/drive/MyDrive/home/sample_data/\"\n",
        "\n",
        "  with open(base_path +'block4_A.pkl', 'rb') as handle:\n",
        "    block_A = pickle.load(handle)\n",
        "\n",
        "  with open(base_path + 'block4_B.pkl', 'rb') as handle:\n",
        "    block_B = pickle.load(handle)\n",
        "\n",
        "  with open(base_path + 'block4_C.pkl', 'rb') as handle:\n",
        "    block_C = pickle.load(handle)\n",
        "\n",
        "  return (block_A, block_B, block_C)"
      ],
      "metadata": {
        "id": "ymHoXcKuO4SQ"
      },
      "execution_count": 14,
      "outputs": []
    },
    {
      "cell_type": "code",
      "source": [
        "# EJEMPLO\n",
        "\n",
        "#block_A = Block4(np.array(X), y, ['CLEAN', 'MINMAX', 'KBEST-50', 'SFS-10', 'PCA-5', 'ICA-2'])\n",
        "#block_B = Block4(np.array(X), y, ['CLEAN', 'MINMAX', 'KBEST-20', 'SFS-10', 'PCA-5'])\n",
        "#block_C = Block4(np.array(X), y, ['CLEAN', 'MINMAX', 'KBEST-20', 'ICA-2'])\n",
        "\n",
        "block_A, block_B, block_C = load_sample_block4()\n",
        "BLOCKS = [block_A, block_B, block_C]"
      ],
      "metadata": {
        "id": "vxZu_HFjM7rE"
      },
      "execution_count": 15,
      "outputs": []
    },
    {
      "cell_type": "code",
      "source": [
        "results = Block5(BLOCKS, [\"FOREST-max_depth:3-n_estimators:100\", \"KNN-n_neighbors:15\",\n",
        "                          \"NBAYES\", \"SVC-kernel:linear-C:0.025-gamma:2\"])"
      ],
      "metadata": {
        "id": "SFVpYO28r3Tn"
      },
      "execution_count": 16,
      "outputs": []
    },
    {
      "cell_type": "code",
      "source": [
        "results.best_classifier"
      ],
      "metadata": {
        "colab": {
          "base_uri": "https://localhost:8080/"
        },
        "id": "tZtBtUo_s0zN",
        "outputId": "4a9bb433-ddcb-4c10-9d8d-192b721fdebf"
      },
      "execution_count": 17,
      "outputs": [
        {
          "output_type": "execute_result",
          "data": {
            "text/plain": [
              "(0.9023809523809524,\n",
              " <__main__.Block4 at 0x7f201b12c690>,\n",
              " sklearn.neighbors._classification.KNeighborsClassifier,\n",
              " {'n_neighbors': 15})"
            ]
          },
          "metadata": {},
          "execution_count": 17
        }
      ]
    },
    {
      "cell_type": "code",
      "source": [
        ""
      ],
      "metadata": {
        "id": "Xmfr45h-SOyq"
      },
      "execution_count": 17,
      "outputs": []
    }
  ],
  "metadata": {
    "interpreter": {
      "hash": "6189f557f5bc4df41e92f7a00b3721572a07e07697aeafd1cb02e690e443f281"
    },
    "kernelspec": {
      "display_name": "Python 3.9.4 64-bit",
      "language": "python",
      "name": "python3"
    },
    "language_info": {
      "codemirror_mode": {
        "name": "ipython",
        "version": 3
      },
      "file_extension": ".py",
      "mimetype": "text/x-python",
      "name": "python",
      "nbconvert_exporter": "python",
      "pygments_lexer": "ipython3",
      "version": "3.9.4"
    },
    "orig_nbformat": 4,
    "colab": {
      "name": "base.ipynb",
      "provenance": [],
      "collapsed_sections": [
        "culpx2NQWV_H",
        "N1flNF6VEERS"
      ]
    }
  },
  "nbformat": 4,
  "nbformat_minor": 0
}