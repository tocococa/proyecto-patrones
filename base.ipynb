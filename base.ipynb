{
  "cells": [
    {
      "cell_type": "code",
      "execution_count": null,
      "metadata": {
        "id": "j2A7EsDgUZWE"
      },
      "outputs": [],
      "source": [
        "import cv2\n",
        "import os\n",
        "import numpy as np\n",
        "import PIL as pil\n",
        "from tqdm import tqdm"
      ]
    },
    {
      "cell_type": "code",
      "source": [
        "import os\n",
        "from google.colab import drive\n",
        "drive.mount('/content/drive', force_remount=True)"
      ],
      "metadata": {
        "colab": {
          "base_uri": "https://localhost:8080/"
        },
        "id": "BQjqoOMgV4TI",
        "outputId": "d6ced898-a1df-423a-abec-1ad70223e5d5"
      },
      "execution_count": 5,
      "outputs": [
        {
          "output_type": "stream",
          "name": "stdout",
          "text": [
            "Mounted at /content/drive\n"
          ]
        }
      ]
    },
    {
      "cell_type": "markdown",
      "source": [
        "## Drive files\n",
        "\n",
        "1. Aceptar invitación a la unidad compartida Patrones2022\n",
        "\n",
        "2. Abrir la unidad, y sobre la carpeta `home`, hacer click derecho y luego \"Añadir acceso directo a Drive\".\n",
        "\n",
        "Si eso funcionó, al ejecutar la siguiente celda, debería verse `raw_database  trained_models` en el output."
      ],
      "metadata": {
        "id": "culpx2NQWV_H"
      }
    },
    {
      "cell_type": "code",
      "source": [
        "!ls \"/content/drive/My Drive/home\""
      ],
      "metadata": {
        "colab": {
          "base_uri": "https://localhost:8080/"
        },
        "id": "1Sq2Th8bWRgp",
        "outputId": "623ff6d4-f134-42aa-da76-baf585b51618"
      },
      "execution_count": 6,
      "outputs": [
        {
          "output_type": "stream",
          "name": "stdout",
          "text": [
            "raw_database  trained_models\n"
          ]
        }
      ]
    },
    {
      "cell_type": "code",
      "execution_count": null,
      "metadata": {
        "id": "U5ZXIY4JUZWL"
      },
      "outputs": [],
      "source": [
        "def LoadImage(path: str, cmap: str = 'gray', echo: bool = True) -> np.ndarray:\n",
        "    \"\"\"\n",
        "    Load an image from a path\n",
        "    \"\"\"\n",
        "    print(\"Image: \" + path)\n",
        "    img = cv2.imread(path, cmap=cmap)\n",
        "    print(\"Image size:\", img.shape)\n",
        "    return img\n",
        "\n",
        "\n",
        "def NofClasses(path: str) -> int:\n",
        "    \"\"\"\n",
        "    Get the classes in a directory\n",
        "    \"\"\"\n",
        "    return len(os.listdir(path)) - 1\n",
        "\n",
        "\n",
        "def NofSamples(path: str) -> list:\n",
        "    \"\"\"\n",
        "    Get the number of samples for each class\n",
        "    \"\"\"\n",
        "    samples = []\n",
        "    for subdir in os.listdir(path):\n",
        "        samples.append(len(os.listdir(path + subdir)))\n",
        "    return samples\n",
        "\n",
        "\n",
        "def BuildDataset(path: str, cmap: str = 'gray') -> tuple:\n",
        "    \"\"\"\n",
        "    Build a dataset from a directory, returns a tuple (X, y, #clas, [#sam])\n",
        "    \"\"\"\n",
        "    classes = NofClasses(path)\n",
        "    samples = NofSamples(path)\n",
        "    Xsam = np.zeros((sum(samples), classes))\n",
        "    Ysam = np.zeros((sum(samples), 1))\n",
        "    i = 0\n",
        "    ii = 0\n",
        "    echo = True\n",
        "    for dir in os.listdir(path):\n",
        "        for file in tqdm(os.listdir(path + dir)):\n",
        "            Xsam[ii] = LoadImage(path + dir + '/' + file, cmap=cmap, echo=echo)\n",
        "            echo = False\n",
        "            Ysam[ii] = i\n",
        "            ii += 1\n",
        "        i += 1\n",
        "    return (Xsam, Ysam, classes, samples)\n",
        "    "
      ]
    }
  ],
  "metadata": {
    "interpreter": {
      "hash": "6189f557f5bc4df41e92f7a00b3721572a07e07697aeafd1cb02e690e443f281"
    },
    "kernelspec": {
      "display_name": "Python 3.9.4 64-bit",
      "language": "python",
      "name": "python3"
    },
    "language_info": {
      "codemirror_mode": {
        "name": "ipython",
        "version": 3
      },
      "file_extension": ".py",
      "mimetype": "text/x-python",
      "name": "python",
      "nbconvert_exporter": "python",
      "pygments_lexer": "ipython3",
      "version": "3.9.4"
    },
    "orig_nbformat": 4,
    "colab": {
      "name": "base.ipynb",
      "provenance": []
    }
  },
  "nbformat": 4,
  "nbformat_minor": 0
}