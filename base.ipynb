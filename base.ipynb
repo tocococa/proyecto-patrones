{
  "cells": [
    {
      "cell_type": "code",
      "execution_count": 1,
      "metadata": {
        "id": "j2A7EsDgUZWE"
      },
      "outputs": [],
      "source": [
        "import cv2\n",
        "import os\n",
        "import pickle\n",
        "import numpy as np\n",
        "import PIL as pil\n",
        "from tqdm.auto import tqdm"
      ]
    },
    {
      "cell_type": "code",
      "source": [
        "import os\n",
        "from google.colab import drive\n",
        "drive.mount('/content/drive', force_remount=True)"
      ],
      "metadata": {
        "colab": {
          "base_uri": "https://localhost:8080/"
        },
        "id": "BQjqoOMgV4TI",
        "outputId": "1f19f58b-edc0-402e-ace9-f459045a47a1"
      },
      "execution_count": 48,
      "outputs": [
        {
          "output_type": "stream",
          "name": "stdout",
          "text": [
            "Mounted at /content/drive\n"
          ]
        }
      ]
    },
    {
      "cell_type": "markdown",
      "source": [
        "## Drive files\n",
        "\n",
        "1. Aceptar invitación a la unidad compartida Patrones2022\n",
        "\n",
        "2. Abrir la unidad, y sobre la carpeta `home`, hacer click derecho y luego \"Añadir acceso directo a Drive\".\n",
        "\n",
        "Si eso funcionó, al ejecutar la siguiente celda, debería verse `parameters.json   pickled_features  sample_data\n",
        "pickled_database  raw_database\t    trained_models` en el output."
      ],
      "metadata": {
        "id": "culpx2NQWV_H"
      }
    },
    {
      "cell_type": "code",
      "source": [
        "HOME = \"/content/drive/My Drive/home/\"\n",
        "!ls \"{HOME}\""
      ],
      "metadata": {
        "colab": {
          "base_uri": "https://localhost:8080/"
        },
        "id": "1Sq2Th8bWRgp",
        "outputId": "c57c0b1c-3a2d-4cef-e5a0-fac895961736"
      },
      "execution_count": 3,
      "outputs": [
        {
          "output_type": "stream",
          "name": "stdout",
          "text": [
            " Diagrama.gslides   raw_database\t  sample_data\t  'video script.gdoc'\n",
            " parameters.json   'results (1).gsheet'   TODO.gdraw\n",
            " pickled_database   results.csv\t\t  trained_models\n",
            " pickled_features   results.gsheet\t  Video-1.mp4\n"
          ]
        }
      ]
    },
    {
      "cell_type": "code",
      "source": [
        "!ls \"{HOME}/raw_database\""
      ],
      "metadata": {
        "colab": {
          "base_uri": "https://localhost:8080/"
        },
        "id": "Cki2PHBWyK_k",
        "outputId": "ab9d43f5-5f74-4eec-cdef-0b40470c4564"
      },
      "execution_count": 4,
      "outputs": [
        {
          "output_type": "stream",
          "name": "stdout",
          "text": [
            "Bicicletas  Cachipun  Espinas  Letras  Lunares\n"
          ]
        }
      ]
    },
    {
      "cell_type": "code",
      "execution_count": 29,
      "metadata": {
        "id": "U5ZXIY4JUZWL"
      },
      "outputs": [],
      "source": [
        "def LoadImage(path: str, cmap: str = 'gray', echo: bool = True) -> np.ndarray:\n",
        "    \"\"\"\n",
        "    Load an image from a path\n",
        "    \"\"\"\n",
        "    if cmap == 'gray':\n",
        "      cflag = cv2.IMREAD_GRAYSCALE\n",
        "    elif cmap == 'rgb':\n",
        "      cflag = cv2.IMREAD_COLOR\n",
        "    else:\n",
        "      print(f\"{cmap} is not a valid option\")\n",
        "      raise AttributeError\n",
        "    if echo:\n",
        "      print(\"Image: \" + path)\n",
        "    img = cv2.imread(path, cflag)\n",
        "    if echo:\n",
        "      print(\"Image size:\", img.shape)\n",
        "    return img\n",
        "\n",
        "\n",
        "def NofClasses(path: str) -> int:\n",
        "    \"\"\"\n",
        "    Get the classes in a directory\n",
        "    \"\"\"\n",
        "    return len(os.listdir(path)) - 1\n",
        "\n",
        "\n",
        "def NofSamples(path: str) -> list:\n",
        "    \"\"\"\n",
        "    Get the number of samples for each class\n",
        "    \"\"\"\n",
        "    samples = []\n",
        "    for subdir in os.listdir(path):\n",
        "        samples.append(len(os.listdir(path + subdir)))\n",
        "    return samples\n",
        "\n",
        "\n",
        "def GetMinDim(path: str) -> tuple:\n",
        "  \"\"\"\n",
        "  Returns the smallest dimensions from every image in path.\n",
        "  Path must be a nonempty folder, with at least one folder with images.\n",
        "  \"\"\"\n",
        "  minh = None\n",
        "  minw = None\n",
        "  for dir in os.listdir(path):\n",
        "    for fil in os.listdir(path+dir):\n",
        "      h, w = LoadImage(path + dir + '/' + fil).shape\n",
        "      if not minh or h < minh:\n",
        "        minh = h\n",
        "      if not minw or w < minw:\n",
        "        minw = w\n",
        "      break\n",
        "  return (minw, minh)\n",
        "\n",
        "\n",
        "def BuildDataset(path: str, cmap: str = 'gray', echo: bool = False) -> tuple:\n",
        "    \"\"\"\n",
        "    Build a dataset from a directory, returns a tuple (X, y, #clas, [#sam])\n",
        "    \"\"\"\n",
        "    imdim = GetMinDim(path)\n",
        "    if echo:\n",
        "      print(f\"Smallest image size: {imdim}\")\n",
        "    classes = NofClasses(path)\n",
        "    samples = NofSamples(path)\n",
        "    Xsam = np.zeros((sum(samples), imdim[1], imdim[0]))\n",
        "    Ysam = np.zeros((sum(samples), 1), \"int\")\n",
        "    i = 0\n",
        "    ii = 0\n",
        "    echo = True\n",
        "    for dir in os.listdir(path):\n",
        "        for fil in tqdm(os.listdir(path + dir)):\n",
        "            if fil == '.DS_Store':\n",
        "              continue\n",
        "            img = LoadImage(path + dir + '/' + fil, cmap=cmap, echo=echo)\n",
        "            img = cv2.resize(img, imdim, interpolation = cv2.INTER_AREA) \n",
        "            Xsam[ii] = img\n",
        "            echo = False\n",
        "            Ysam[ii] = i\n",
        "            ii += 1\n",
        "        i += 1\n",
        "    return (Xsam, Ysam, classes, samples)\n",
        "    "
      ]
    },
    {
      "cell_type": "markdown",
      "source": [
        "## Data Augmentation\n",
        "\n",
        "Realiza rotaciones de las imagenes en 15°, en sentido positivo  y negativo.\n",
        "Se detiene cuando cumple el requisito de cantidad de imagenes.\n",
        "Está configurado para lograr una cantidad de imagenes igual a: `max(#samples por clase) * 1.5`.\n",
        "Es decir, si tenemos un dataset de:\n",
        "```\n",
        "Lunares\t\n",
        "1: BCC   300  ---> 1800\n",
        "2: BKL   600  ---> 1800\n",
        "3: DF     80  ---> 1800\n",
        "4: MEL   600  ---> 1800\n",
        "5: NV   1200  ---> 1800 (el máximo * 50%)\n",
        "6: VASC  110  ---> 1800\n",
        "7: AKIEC 240  ---> 1800 \n",
        "```"
      ],
      "metadata": {
        "id": "KUW6Ar2d0w63"
      }
    },
    {
      "cell_type": "code",
      "source": [
        "from skimage import transform\n",
        "from tqdm import tqdm\n",
        "import shutil\n",
        "\n",
        "\n",
        "class DataAugmentator:\n",
        "  def __init__(self, base_path: str):\n",
        "    self.base_path = base_path\n",
        "    self.subclasses_folders: list[str] = os.listdir(base_path)\n",
        "    self.augment()\n",
        "\n",
        "  def create_rotator(self, angle):\n",
        "    def rotate(img):\n",
        "      return transform.rotate(img, angle=angle)\n",
        "\n",
        "    return rotate\n",
        "  \n",
        "  def augment(self):\n",
        "    img_count = {}\n",
        "\n",
        "    for subfolder in self.subclasses_folders:\n",
        "      img_count[subfolder] = len(os.listdir(self.base_path + subfolder))\n",
        "\n",
        "    target_count = max(img_count.values()) * 3 // 2\n",
        "\n",
        "    strategies = [self.create_rotator(angle) for angle in range(0, 180, 15)]\n",
        "    strategies += [self.create_rotator(-angle) for angle in range(0, 180, 15)]\n",
        "    strategy_generator = self.strategy_generator(strategies)\n",
        "    \n",
        "    for subfolder in self.subclasses_folders:\n",
        "      print(subfolder)\n",
        "\n",
        "      class_folder_path = self.base_path + subfolder + \"/\"\n",
        "      images = os.listdir(class_folder_path)\n",
        "\n",
        "      n_image = img_count[subfolder]\n",
        "      img_pos = 0\n",
        "\n",
        "      if os.path.isdir(subfolder):\n",
        "        shutil.rmtree(subfolder)\n",
        "      os.mkdir(subfolder)\n",
        "\n",
        "      pbar = tqdm(total=target_count - len(images))\n",
        "\n",
        "      while n_image < target_count:\n",
        "        img = LoadImage(class_folder_path + images[img_pos], echo=False)\n",
        "        strat = next(strategy_generator)\n",
        "\n",
        "        with open(f\"{subfolder}/{n_image}.npy\", 'wb') as f:\n",
        "            np.save(f, strat(img))\n",
        "\n",
        "        n_image += 1\n",
        "        pbar.update(1)\n",
        "\n",
        "        if n_image % len(strategies) == 0:\n",
        "          img_pos += 1\n",
        "\n",
        "      pbar.close()\n",
        "    \n",
        "  def strategy_generator(self, strategies):\n",
        "    count = 0\n",
        "    while True:\n",
        "      count += 1\n",
        "\n",
        "      if count == len(strategies):\n",
        "        count = 0\n",
        "    \n",
        "      yield strategies[count]\n",
        "\n",
        "\n",
        "data_augmentator = DataAugmentator(HOME + \"raw_database/Lunares/\")"
      ],
      "metadata": {
        "colab": {
          "base_uri": "https://localhost:8080/"
        },
        "id": "MzsWuPdQe6sg",
        "outputId": "135bbff8-2696-429a-819b-06c728497cb5"
      },
      "execution_count": 91,
      "outputs": [
        {
          "output_type": "stream",
          "name": "stderr",
          "text": [
            " 73%|███████▎  | 876/1200 [04:22<01:37,  3.33it/s]\n",
            " 69%|██████▉   | 1080/1560 [00:51<00:22, 20.99it/s] \n"
          ]
        },
        {
          "output_type": "stream",
          "name": "stdout",
          "text": [
            "00_akiec\n"
          ]
        },
        {
          "output_type": "stream",
          "name": "stderr",
          "text": [
            "100%|██████████| 1560/1560 [00:12<00:00, 120.26it/s]\n"
          ]
        },
        {
          "output_type": "stream",
          "name": "stdout",
          "text": [
            "01_bcc\n"
          ]
        },
        {
          "output_type": "stream",
          "name": "stderr",
          "text": [
            "100%|██████████| 1500/1500 [00:12<00:00, 117.06it/s]\n"
          ]
        },
        {
          "output_type": "stream",
          "name": "stdout",
          "text": [
            "02_bkl\n"
          ]
        },
        {
          "output_type": "stream",
          "name": "stderr",
          "text": [
            "100%|██████████| 1200/1200 [00:11<00:00, 102.87it/s]\n"
          ]
        },
        {
          "output_type": "stream",
          "name": "stdout",
          "text": [
            "04_mel\n"
          ]
        },
        {
          "output_type": "stream",
          "name": "stderr",
          "text": [
            "100%|██████████| 1200/1200 [00:10<00:00, 111.21it/s]\n"
          ]
        },
        {
          "output_type": "stream",
          "name": "stdout",
          "text": [
            "05_nv\n"
          ]
        },
        {
          "output_type": "stream",
          "name": "stderr",
          "text": [
            "100%|██████████| 600/600 [00:05<00:00, 103.53it/s]\n"
          ]
        },
        {
          "output_type": "stream",
          "name": "stdout",
          "text": [
            "06_vasc\n"
          ]
        },
        {
          "output_type": "stream",
          "name": "stderr",
          "text": [
            "100%|██████████| 1690/1690 [00:14<00:00, 117.04it/s]\n"
          ]
        },
        {
          "output_type": "stream",
          "name": "stdout",
          "text": [
            "03_df\n"
          ]
        },
        {
          "output_type": "stream",
          "name": "stderr",
          "text": [
            "100%|██████████| 1720/1720 [00:40<00:00, 42.82it/s]\n"
          ]
        }
      ]
    },
    {
      "cell_type": "code",
      "source": [
        "%%script echo skipping\n",
        "datasets = [\"Bicicletas\", \"Cachipun\", \"Espinas\", \"Letras\", \"Lunares\"]\n",
        "\n",
        "for DSNAME in datasets:\n",
        "  out = BuildDataset(f\"{HOME}raw_database/{DSNAME}/\", echo=True)\n",
        "  Xsam, Ysam, clas, sam = out\n",
        "\n",
        "  pick_insert = open(f'{HOME}pickled_database/{DSNAME}/Xsam.pkl', 'wb')\n",
        "  pickle.dump(Xsam, pick_insert)\n",
        "  pick_insert.close()\n",
        "\n",
        "  pick_insert = open(f'{HOME}pickled_database/{DSNAME}/Ysam.pkl', 'wb')\n",
        "  pickle.dump(Ysam, pick_insert)\n",
        "  pick_insert.close()\n",
        "\n",
        "  pick_insert = open(f'{HOME}pickled_database/{DSNAME}/clas.pkl', 'wb')\n",
        "  pickle.dump(clas, pick_insert)\n",
        "  pick_insert.close()\n",
        "\n",
        "  pick_insert = open(f'{HOME}pickled_database/{DSNAME}/sam.pkl', 'wb')\n",
        "  pickle.dump(sam, pick_insert)\n",
        "  pick_insert.close()"
      ],
      "metadata": {
        "colab": {
          "base_uri": "https://localhost:8080/"
        },
        "id": "dss93f4xx_nG",
        "outputId": "f383d5c4-916b-429e-81d5-7663974f5034"
      },
      "execution_count": 50,
      "outputs": [
        {
          "output_type": "stream",
          "name": "stdout",
          "text": [
            "skipping\n"
          ]
        }
      ]
    },
    {
      "cell_type": "markdown",
      "source": [
        "## Bloque 1: Lectura de parámetros\n",
        "Librerías necesarias para este bloque:"
      ],
      "metadata": {
        "id": "DjFNKNButjv0"
      }
    },
    {
      "cell_type": "code",
      "source": [
        "import json"
      ],
      "metadata": {
        "id": "YdTt6o8Ttq5S"
      },
      "execution_count": null,
      "outputs": []
    },
    {
      "cell_type": "code",
      "source": [
        "class Block1:\n",
        "  def __init__(self, path):\n",
        "    '''\n",
        "    Parse params file\n",
        "\n",
        "    INPUT:\n",
        "      path: path to params file\n",
        "    '''\n",
        "    self.path = path\n",
        "    self.load_params()\n",
        "  \n",
        "  def load_params(self):\n",
        "    with open(self.path, encoding = 'utf-8') as file:\n",
        "      params = json.load(file)\n",
        "\n",
        "      self.dataset = params['dataset']\n",
        "      self.features = params['features']\n",
        "      self.transformations = params['transformations']\n",
        "      self.classifiers = []\n",
        "      for c in params['classifiers']:\n",
        "        formatted_input = []\n",
        "        for c_name, c_params in c.items():\n",
        "          formatted_input.append(c_name)\n",
        "          for k, v in c_params.items():\n",
        "            param = \"{0}:{1}\".format(k,v)\n",
        "            formatted_input.append(param)\n",
        "        \n",
        "        self.classifiers.append(\"-\".join(formatted_input))"
      ],
      "metadata": {
        "id": "ASVOLiYZtr1J"
      },
      "execution_count": null,
      "outputs": []
    },
    {
      "cell_type": "markdown",
      "source": [
        "Ejemplo de uso"
      ],
      "metadata": {
        "id": "PT7Ak-5Ttud4"
      }
    },
    {
      "cell_type": "code",
      "source": [
        "%%script echo skipping\n",
        "block1 = Block1(f'{HOME}parameters.json')\n",
        "print(block1.classifiers)\n",
        "print(block1.features)\n",
        "print(block1.transformations)\n",
        "print(block1.dataset)\n",
        "del block1 # Importante para no llenar la RAM mientras se prueba"
      ],
      "metadata": {
        "colab": {
          "base_uri": "https://localhost:8080/"
        },
        "id": "07U1CtedtvjJ",
        "outputId": "28359233-a119-4279-f7be-a230577c46c7"
      },
      "execution_count": null,
      "outputs": [
        {
          "output_type": "stream",
          "name": "stdout",
          "text": [
            "skipping\n"
          ]
        }
      ]
    },
    {
      "cell_type": "markdown",
      "source": [
        "## Bloque 3: Extracción de características.\n",
        "Librerías necesarias para este bloque:"
      ],
      "metadata": {
        "id": "7hIGi3eiFUr0"
      }
    },
    {
      "cell_type": "code",
      "source": [
        "from IPython.display import clear_output\n",
        "!pip3 install scipy==1.2\n",
        "!pip3 install pybalu==0.2.5\n",
        "clear_output()"
      ],
      "metadata": {
        "id": "LNBGqeltm6sZ"
      },
      "execution_count": null,
      "outputs": []
    },
    {
      "cell_type": "code",
      "source": [
        "from pybalu.feature_extraction import hog_features, lbp_features"
      ],
      "metadata": {
        "id": "W7z6etBgILKp"
      },
      "execution_count": null,
      "outputs": []
    },
    {
      "cell_type": "markdown",
      "source": [
        "Formato del nombre para cada característica soportada:\n",
        "  - HoG: \"HOG-NxMxB\"\n",
        "  - LBP: \"LBP-NxM\"\n",
        "\n",
        "Formato de archivo de características guardado en Drive:\n",
        "\n",
        "\"DSNAME_feature1+feature2.pkl\"\n",
        "\n",
        "Ej:\n",
        "\"Bicicletas_LBP-5x5+HOG-7x7x9.pkl\""
      ],
      "metadata": {
        "id": "yXaj5rg6lfuZ"
      }
    },
    {
      "cell_type": "code",
      "source": [
        "class Block3:\n",
        "  def __init__(self, DSNAME, features, load_database=True, load_features=True, save=True):\n",
        "      '''\n",
        "      Extracts the features indicated from the DSNAME dataset.\n",
        "\n",
        "      INPUT:\n",
        "        DSNAME: name of the dataset stored in Drive.\n",
        "        features: array of strings following feature name convention,\n",
        "        load_database: True -> loads pickled images directly.\n",
        "        load_features: True -> tries to load the features from Drive in case they already\n",
        "          been extracted before. If file does not exist, the features are extracted.\n",
        "        save:          True -> saves the extracted features to Drive.\n",
        "\n",
        "      OUTPUT:\n",
        "        Feature matrix is stored in the variable self.X.\n",
        "        Ground truth is stored in the variable self.Ysam\n",
        "      '''\n",
        "      self.DSNAME = DSNAME\n",
        "      self.features = features\n",
        "      self.features_names, self.features_parameters = self.parse_features()\n",
        "      self.save = save\n",
        "\n",
        "      if load_database:\n",
        "        self.Xsam, self.Ysam, self.n_class, self.n_samples = self.import_pickled_dataset()\n",
        "      else:\n",
        "        self.Xsam, self.Ysam, self.n_class, self.n_samples = BuildDataset(f\"{HOME}raw_database/{self.DSNAME}/\", echo=True)\n",
        "      self.n_class += 1\n",
        "\n",
        "      self.identifier = self.DSNAME + \"_\" + \"+\".join(self.features)\n",
        "      if load_features:\n",
        "        self.X = self.load_features()\n",
        "      else:\n",
        "        self.X = self.extract_features()\n",
        "  \n",
        "  def parse_features(self):\n",
        "    features_names = []\n",
        "    features_parameters = dict()\n",
        "\n",
        "    for feature in self.features:\n",
        "      name = feature.split(\"-\")[0]\n",
        "      parameters = feature.split(\"-\")[1]\n",
        "      if name == \"HOG\":\n",
        "        parameters = [int(param) for param in parameters.split(\"x\")]\n",
        "\n",
        "      elif name == \"LBP\":\n",
        "        parameters = [int(param) for param in parameters.split(\"x\")]\n",
        "      features_names.append(name)\n",
        "      features_parameters[name] = parameters\n",
        "    \n",
        "    return features_names, features_parameters\n",
        "    \n",
        "\n",
        "  def import_pickled_dataset(self):\n",
        "    file_read = open(f'{HOME}pickled_database/{self.DSNAME}/Xsam.pkl','rb')\n",
        "    Xsam = pickle.load(file_read)\n",
        "    file_read.close()\n",
        "\n",
        "    file_read = open(f'{HOME}pickled_database/{self.DSNAME}/Ysam.pkl','rb')\n",
        "    Ysam = pickle.load(file_read)\n",
        "    file_read.close()\n",
        "\n",
        "    file_read = open(f'{HOME}pickled_database/{self.DSNAME}/clas.pkl','rb')\n",
        "    n_class = pickle.load(file_read)\n",
        "    file_read.close()\n",
        "\n",
        "    file_read = open(f'{HOME}pickled_database/{self.DSNAME}/sam.pkl','rb')\n",
        "    n_samples = pickle.load(file_read)\n",
        "    file_read.close()\n",
        "    return Xsam, Ysam, n_class, n_samples\n",
        "\n",
        "  def load_features(self):\n",
        "    try:\n",
        "      read_file = open(f'{HOME}pickled_features/{self.DSNAME}/{self.identifier}.pkl', 'rb')\n",
        "      X = pickle.load(read_file)\n",
        "      return X\n",
        "    except:\n",
        "      print(f'Could not load {self.identifier}.pkl')\n",
        "      X = self.extract_features()\n",
        "      return X\n",
        "\n",
        "  def extract_features(self):\n",
        "    total_images = sum(self.n_samples)\n",
        "    feature_matrices = dict() # Dictionary indexed by feature name that saves feature matrix of feature.\n",
        "\n",
        "    # Initialize feature matrices\n",
        "    for feature in self.features_names:\n",
        "      if feature == \"LBP\":\n",
        "        parameters = self.features_parameters[feature]\n",
        "        M = 59*parameters[0]*parameters[1]\n",
        "        Xfeat = np.zeros((total_images,M))\n",
        "        feature_matrices[feature] = Xfeat\n",
        "\n",
        "      elif feature == \"HOG\":\n",
        "        parameters = self.features_parameters[feature]\n",
        "        M = parameters[0]*parameters[1]*parameters[2]\n",
        "        Xfeat = np.zeros((total_images,M))\n",
        "        feature_matrices[feature] = Xfeat\n",
        "    \n",
        "    # Extract each feature from each image.\n",
        "    t = 0\n",
        "    for image in self.Xsam:\n",
        "      for feature in self.features_names:\n",
        "        if feature == \"LBP\":\n",
        "          parameters = self.features_parameters[feature]\n",
        "          feature_matrices[feature][t,:] = lbp_features(image, hdiv=parameters[0], vdiv=parameters[1], mapping='nri_uniform')\n",
        "\n",
        "        elif feature == \"HOG\":\n",
        "          parameters = self.features_parameters[feature]\n",
        "          feature_matrices[feature][t,:] = hog_features(image, v_windows=parameters[0], h_windows=parameters[1], n_bins=parameters[2])\n",
        "      t+=1\n",
        "    \n",
        "    # Concatenate features\n",
        "    X = np.concatenate(tuple([feature_matrices[feature] for feature in self.features_names]), axis=1)\n",
        "\n",
        "    if self.save:\n",
        "      try:\n",
        "        pick_insert = open(f'{HOME}pickled_features/{self.DSNAME}/{self.identifier}.pkl', 'wb')\n",
        "        pickle.dump(X, pick_insert)\n",
        "        pick_insert.close()\n",
        "      except:\n",
        "        print(f'Could not save {self.identifier}.pkl')\n",
        "\n",
        "    return X\n",
        "\n",
        "  def __str__(self):\n",
        "    return self.identifier"
      ],
      "metadata": {
        "id": "mg2U1ZGol_ZA"
      },
      "execution_count": null,
      "outputs": []
    },
    {
      "cell_type": "markdown",
      "source": [
        "Ejemplo de uso"
      ],
      "metadata": {
        "id": "KnKiJy0pJ2zy"
      }
    },
    {
      "cell_type": "code",
      "source": [
        "%%script echo skipping\n",
        "block3 = Block3(\"Espinas\", [\"LBP-6x6\", \"HOG-7x7x9\"], load_database=True, load_features=False, save=True)\n",
        "\n",
        "print(block3)\n",
        "print(block3.features_names, block3.features_parameters)\n",
        "print(block3.Xsam.shape, block3.Ysam.shape, block3.n_class, block3.n_samples)\n",
        "print(block3.X.shape)\n",
        "\n",
        "del block3 # Importante para no llenar la RAM mientras se prueba"
      ],
      "metadata": {
        "id": "C4YZjirdqKez",
        "colab": {
          "base_uri": "https://localhost:8080/"
        },
        "outputId": "c9deb761-2fb3-4a88-96d0-12b9fdecde0e"
      },
      "execution_count": null,
      "outputs": [
        {
          "output_type": "stream",
          "name": "stdout",
          "text": [
            "skipping\n"
          ]
        }
      ]
    },
    {
      "cell_type": "markdown",
      "source": [
        "## Bloque 4: selección y transformación de características.\n",
        "- Split Train-Validation\n",
        "- Aplicación secuencial de alguna selección/transformación\n",
        "  - Clean\n",
        "  - MinMax Scaling\n",
        "  - SelectKBest\n",
        "  - SFS\n",
        "  - PCA\n",
        "  - ICA"
      ],
      "metadata": {
        "id": "N1flNF6VEERS"
      }
    },
    {
      "cell_type": "code",
      "source": [
        "from IPython.display import clear_output\n",
        "!pip3 install scipy==1.2\n",
        "!pip3 install pybalu==0.2.5\n",
        "clear_output()"
      ],
      "metadata": {
        "id": "Lnx6MMNcm4Th"
      },
      "execution_count": null,
      "outputs": []
    },
    {
      "cell_type": "code",
      "source": [
        "from sklearn.model_selection import train_test_split\n",
        "from pybalu.feature_selection import clean\n",
        "from sklearn.preprocessing import MinMaxScaler\n",
        "from sklearn.feature_selection import SelectKBest, chi2\n",
        "from pybalu.feature_selection import sfs\n",
        "from sklearn.decomposition import PCA, FastICA"
      ],
      "metadata": {
        "id": "NVNNFHwbKdeh"
      },
      "execution_count": null,
      "outputs": []
    },
    {
      "cell_type": "code",
      "source": [
        "class CleanInterface:\n",
        "\n",
        "  def __init__(self, X):\n",
        "    self.model = clean(X)\n",
        "\n",
        "  def transform(self, X):\n",
        "    return X[:, self.model]\n",
        "\n",
        "class SFSInterface:\n",
        "\n",
        "  def __init__(self, X, y, s):\n",
        "    self.model = sfs(X, y, s, show=False)\n",
        "\n",
        "  def transform(self, X):\n",
        "    return X[:, self.model]"
      ],
      "metadata": {
        "id": "wPSGbmLbOndK"
      },
      "execution_count": null,
      "outputs": []
    },
    {
      "cell_type": "code",
      "source": [
        "class Block4:\n",
        "\n",
        "  def __init__(self, X, y, sequence, ratio=0.3):\n",
        "\n",
        "    self.sequence = sequence\n",
        "\n",
        "    self.models = []\n",
        "\n",
        "    self.Xtrain, self.Xval, self.ytrain, self.yval = train_test_split(np.array(X), y, test_size=ratio, random_state=42, stratify=y)\n",
        "\n",
        "    self.Xtrain = self.interative_fit()\n",
        "    self.Xval = self.transform(self.Xval)\n",
        "\n",
        "  def interative_fit(self):\n",
        "\n",
        "    X = self.Xtrain\n",
        "\n",
        "    for seq in self.sequence:\n",
        "\n",
        "      name = seq.split('-')[0]\n",
        "\n",
        "      if name == 'CLEAN':\n",
        "        model = CleanInterface(X)\n",
        "      elif name == 'MINMAX':\n",
        "        model = MinMaxScaler().fit(X)\n",
        "      else: \n",
        "        param = int(seq.split('-')[1])\n",
        "        if name == 'KBEST':\n",
        "          model = SelectKBest(chi2, k=param).fit(X, self.ytrain)\n",
        "        elif name == 'SFS':\n",
        "          model = SFSInterface(X, self.ytrain, param)\n",
        "        elif name == 'PCA':\n",
        "          model = PCA(n_components=param).fit(X)\n",
        "        elif name == 'ICA':\n",
        "          model = FastICA(n_components=param, random_state=0).fit(X, self.ytrain)\n",
        "        else:\n",
        "          model = None\n",
        "          print(f'No existe el modelo {name}')\n",
        "\n",
        "      self.models.append(model)\n",
        "      X = model.transform(X)\n",
        "\n",
        "    return X\n",
        "  \n",
        "  def transform(self, X):\n",
        "\n",
        "    for model in self.models:\n",
        "      X = model.transform(X)\n",
        "    return X"
      ],
      "metadata": {
        "id": "qYdP2hn7GEeo"
      },
      "execution_count": null,
      "outputs": []
    },
    {
      "cell_type": "markdown",
      "source": [
        "Ejemplo de uso"
      ],
      "metadata": {
        "id": "qpFT1cz9yTAa"
      }
    },
    {
      "cell_type": "code",
      "source": [
        "%%script echo skipping\n",
        "!gdown --id 1CA-l9_JjdjG_4kTuavKf8Wm27dt0jyqT\n",
        "clear_output()\n",
        "f = open('data.p', \"rb\")\n",
        "data = pickle.load(f)\n",
        "X = data['train']\n",
        "y = np.array([0 if i < 7000 else 1 for i in range(0, 14000)])\n",
        "X.shape, len(y)\n",
        "\n",
        "block = Block4(np.array(X), y, ['CLEAN', 'MINMAX', 'KBEST-50', 'SFS-10', 'PCA-5', 'ICA-2'])\n",
        "block.Xtrain.shape, block.Xval.shape"
      ],
      "metadata": {
        "colab": {
          "base_uri": "https://localhost:8080/"
        },
        "id": "e3N8G2DVGJiA",
        "outputId": "a471ab73-5268-430c-8201-43bb608e8b89"
      },
      "execution_count": null,
      "outputs": [
        {
          "output_type": "stream",
          "name": "stdout",
          "text": [
            "skipping\n"
          ]
        }
      ]
    },
    {
      "cell_type": "markdown",
      "source": [
        "## Bloque 5"
      ],
      "metadata": {
        "id": "il1epoYouaXm"
      }
    },
    {
      "cell_type": "markdown",
      "source": [
        "<div align=\"center\">\n",
        "<img src=\"https://i.imgur.com/jxpf9U9.png\"></img>\n",
        "</div>"
      ],
      "metadata": {
        "id": "sWcojGo9uzEL"
      }
    },
    {
      "cell_type": "markdown",
      "source": [
        "### Modo de uso\n",
        "\n",
        "**Block5 recibe dos elementos:**\n",
        "\n",
        "- **blocks**: lista de instancias de la clase `Block4`\n",
        "- **sequence**: lista de strings\n",
        "\n",
        "Para sequence, un elemento de la lista puede verse así:\n",
        "\n",
        "`FOREST-max_depth:3-n_estimators:100`\n",
        "\n",
        "Es decir: `{CLASSIFIER_NAME}-{PARAM_1_NAME}:{PARAM_1_VALUE}-{PARAM_2_NAME}:{PARAM_2_VALUE}`\n",
        "\n",
        "Puede que un Clasificador no tenga parámetros (como `QDA`). En ese caso basta sólo con el nombre.\n",
        "\n",
        "El mapping de nombre --> clasificador se aprecia en `self.classifiers` de `Block5`. Ahí mismo, se aprecian los `kwargs`, es decir los parámetros que recibe el constructor de dicho clasificador.\n",
        "\n",
        "Kwargs son los parámetros permitidos a personalizar. Lo demás será default.\n",
        "Hay casos donde estos parámetros son obligatorios, y otros donde no.\n",
        "A modo de maximizar el accuracy y evitar errores, ojalá todos estén presentes (mayor personalización).\n",
        "\n",
        "Al momento de instanciar el bloque, inmediatamente se comienza el proceso de búsqueda y validación del mejor modelo.\n",
        "Al terminar, en el atributo `best_classifier` queda guardado el mejor clasificador. Es decir, una tupla de:\n",
        "\n",
        "`final_accuracy: float, <block4>: Block4, clf_class: object, params: dict`"
      ],
      "metadata": {
        "id": "9AWMQRQEu9m4"
      }
    },
    {
      "cell_type": "code",
      "source": [
        "from sklearn.neighbors import KNeighborsClassifier, NearestCentroid\n",
        "\n",
        "from sklearn.svm import SVC\n",
        "\n",
        "from sklearn.tree import DecisionTreeClassifier\n",
        "from sklearn.ensemble import RandomForestClassifier\n",
        "from sklearn.naive_bayes import GaussianNB\n",
        "\n",
        "from sklearn.discriminant_analysis import QuadraticDiscriminantAnalysis\n",
        "\n",
        "from sklearn.metrics import accuracy_score\n",
        "from sklearn.model_selection import cross_val_score"
      ],
      "metadata": {
        "id": "yon3u8FHub7l"
      },
      "execution_count": null,
      "outputs": []
    },
    {
      "cell_type": "code",
      "source": [
        "from typing import List\n",
        "\n",
        "class Params:\n",
        "    N_FOLDS = 10\n",
        "\n",
        "class Block5:\n",
        "\n",
        "  def __init__(self, blocks: List['Block4'], sequence: List[str]):\n",
        "\n",
        "    self.blocks = blocks\n",
        "    self.sequence = sequence\n",
        "\n",
        "    # Kwargs son los parámetros permitidos a personalizar. Lo demás será default.\n",
        "    # Hay casos donde estos parámetros son obligatorios, y otros donde no.\n",
        "    # A modo de maximizar el accuracy y evitar errores, ojalá todos estén presentes (mayor personalización).\n",
        "    self.classifiers = {\n",
        "          \"KNN\": {\"clf\": KNeighborsClassifier, \"kwargs\": [\"n_neighbors\"]},\n",
        "          \"DMIN\": {\"clf\": NearestCentroid, \"kwargs\": []},\n",
        "          \"SVC\": {\"clf\": SVC, \"kwargs\": [\"kernel\", \"C\", \"gamma\"]},\n",
        "          \"TREE\": {\"clf\": DecisionTreeClassifier, \"kwargs\": [\"max_depth\"]},\n",
        "          \"FOREST\": {\"clf\": RandomForestClassifier, \"kwargs\": [\"max_depth\", \"n_estimators\"]},\n",
        "          \"NBAYES\": {\"clf\": GaussianNB, \"kwargs\": []},\n",
        "          \"QDA\": {\"clf\": QuadraticDiscriminantAnalysis, \"kwargs\": []},\n",
        "    }\n",
        "\n",
        "    self.best_classifier = self.interative_classify()\n",
        "\n",
        "  def interative_classify(self):\n",
        "\n",
        "    N = {}\n",
        "\n",
        "    for block in self.blocks:\n",
        "      for seq in self.sequence:\n",
        "        \n",
        "        # \"FOREST-max_depth:3-n_estimators:100\" --> [\"FOREST\", \"max_depth:3-n_estimators:100\"]\n",
        "        splitted_seq = seq.split('-')\n",
        "        # name = \"FOREST\"\n",
        "        name = splitted_seq[0]\n",
        "        # params = [[\"max_depth\", \"3\"], [\"n_estimators\", \"100\"]]\n",
        "        params = [clf.split(\":\") for clf in splitted_seq[1:]] if len(splitted_seq) > 1 else []\n",
        "\n",
        "        clf_info = self.classifiers[name]\n",
        "        # RandomForestClassifier\n",
        "        clf_class = clf_info[\"clf\"]\n",
        "\n",
        "        if name == \"SVC\": # necesita tipos de datos especiales\n",
        "          param_types = {\"kernel\": str, \"C\": float, \"gamma\": int}\n",
        "          params = {param_name: param_types[param_name](param_value) for param_name, param_value in params}\n",
        "        else: # en caso contrario, todo parámetro se trata como <int>\n",
        "          params = {param_name: int(param_value) for param_name, param_value in params}\n",
        "\n",
        "        crossval_score = self.cross_validation(block.Xtrain, block.ytrain, clf_class, params)\n",
        "        N[crossval_score] = (block, clf_class, params, seq)\n",
        "\n",
        "    # se obtiene el clasificador con mayor score en cross_validation\n",
        "    max_n = max(N.keys())\n",
        "    block, clf_class, params, seq = N[max_n]\n",
        "\n",
        "    final_accuracy = self.hold_out(block.Xtrain, block.ytrain,\n",
        "                                   block.Xval, block.yval,\n",
        "                                   clf_class, params)\n",
        "    \n",
        "    clf = clf_class(**params)\n",
        "    clf.fit(block.Xtrain, block.ytrain)\n",
        "\n",
        "    return (final_accuracy, block, clf_class, params, seq, clf)\n",
        "\n",
        "\n",
        "  def hold_out(self, X_train, y_train, X_test, y_test, clf, params) -> float:\n",
        "    \"\"\" Retorna accuracy score al entrenar el clasificador en Train y probarlo en Test\"\"\"\n",
        "    clf = clf(**params)\n",
        "    fitted_clf = clf.fit(X_train, y_train)\n",
        "    y_pred = fitted_clf.predict(X_test)\n",
        "\n",
        "    return accuracy_score(y_test, y_pred)\n",
        "\n",
        "  def cross_validation(self, X_train, y_train, clf, params, n_folds=Params.N_FOLDS) -> float:\n",
        "    \"\"\" Retorna score de validación cruzada\"\"\"\n",
        "    cv_scores = cross_val_score(clf(**params), X_train, y_train, cv=n_folds)\n",
        "    return cv_scores.mean()"
      ],
      "metadata": {
        "id": "lRwfLiwRvIdU"
      },
      "execution_count": null,
      "outputs": []
    },
    {
      "cell_type": "markdown",
      "source": [
        "Ejemplo de uso"
      ],
      "metadata": {
        "id": "nsMB2dhIvJuB"
      }
    },
    {
      "cell_type": "code",
      "source": [
        "%%script echo skipping\n",
        "import pickle\n",
        "\n",
        "\n",
        "def dump_sample_block4():\n",
        "  with open('block4_A.pkl', 'wb') as handle:\n",
        "      pickle.dump(block_A, handle)\n",
        "  \n",
        "  with open('block4_B.pkl', 'wb') as handle:\n",
        "    pickle.dump(block_B, handle)\n",
        "\n",
        "  with open('block4_C.pkl', 'wb') as handle:\n",
        "    pickle.dump(block_C, handle)\n",
        "\n",
        "\n",
        "def load_sample_block4():\n",
        "  base_path: str = \"/content/drive/MyDrive/home/sample_data/\"\n",
        "\n",
        "  with open(base_path +'block4_A.pkl', 'rb') as handle:\n",
        "    block_A = pickle.load(handle)\n",
        "\n",
        "  with open(base_path + 'block4_B.pkl', 'rb') as handle:\n",
        "    block_B = pickle.load(handle)\n",
        "\n",
        "  with open(base_path + 'block4_C.pkl', 'rb') as handle:\n",
        "    block_C = pickle.load(handle)\n",
        "\n",
        "  return (block_A, block_B, block_C)\n",
        "\n",
        "#block_A = Block4(np.array(X), y, ['CLEAN', 'MINMAX', 'KBEST-50', 'SFS-10', 'PCA-5', 'ICA-2'])\n",
        "#block_B = Block4(np.array(X), y, ['CLEAN', 'MINMAX', 'KBEST-20', 'SFS-10', 'PCA-5'])\n",
        "#block_C = Block4(np.array(X), y, ['CLEAN', 'MINMAX', 'KBEST-20', 'ICA-2'])\n",
        "\n",
        "block_A, block_B, block_C = load_sample_block4()\n",
        "BLOCKS = [block_A, block_B, block_C]\n",
        "\n",
        "results = Block5(BLOCKS, [\"FOREST-max_depth:3-n_estimators:100\", \"KNN-n_neighbors:15\",\n",
        "                          \"NBAYES\", \"SVC-kernel:linear-C:0.025-gamma:2\"])\n",
        "\n",
        "results.best_classifier"
      ],
      "metadata": {
        "id": "EEDpLOPovKuh",
        "colab": {
          "base_uri": "https://localhost:8080/"
        },
        "outputId": "3d8b87d1-77ff-4536-99bf-4a8606f3a545"
      },
      "execution_count": null,
      "outputs": [
        {
          "output_type": "stream",
          "name": "stdout",
          "text": [
            "skipping\n"
          ]
        }
      ]
    },
    {
      "cell_type": "markdown",
      "source": [
        "# AutoPR"
      ],
      "metadata": {
        "id": "jPsPu_hBy9Hk"
      }
    },
    {
      "cell_type": "markdown",
      "source": [
        "Convención:\n",
        "\n",
        "\\[DATASET]\\_\\[feature1+feature2+...\\]\\_\\[transf1+transf2]\\_\\[classifier-param1name:param1value-param2name:param2value\\]\n",
        "\n",
        "Ej"
      ],
      "metadata": {
        "id": "Mk518Bhm7DyL"
      }
    },
    {
      "cell_type": "code",
      "source": [
        "class AutoPR:\n",
        "  def __init__(self, path, load_database=True, load_features=True, save=False):\n",
        "    self.parameters_path = path\n",
        "    self.load_database = load_database\n",
        "    self.load_features = load_features\n",
        "    self.save = save\n",
        "    # (CV_final_accuracy, block4, clf_class, params, seq, clf_instance)\n",
        "    self.best_classifier_data, self.block1 = self.main()\n",
        "    self.identifier = self.block1.dataset + \"_\" + \"+\".join(self.block1.features) + \"_\" + \"+\".join(self.best_classifier_data[1].sequence) + \"_\" + self.best_classifier_data[4]\n",
        "\n",
        "    if self.save:\n",
        "      self.export_classifier()\n",
        "  \n",
        "  def main(self):\n",
        "    block1 = Block1(self.parameters_path)\n",
        "\n",
        "    block3 = Block3(block1.dataset, block1.features, load_database=self.load_database, load_features=self.load_features, save=self.save)\n",
        "\n",
        "    block4_list = []\n",
        "    for transformation in block1.transformations:\n",
        "      block4 = Block4(block3.X, block3.Ysam, transformation)\n",
        "      block4_list.append(block4)\n",
        "    \n",
        "    block5 = Block5(block4_list, block1.classifiers)\n",
        "\n",
        "    return block5.best_classifier, block1\n",
        "  \n",
        "  def predict(X):\n",
        "    # Aplicar transfomaciones a la imagen\n",
        "\n",
        "    # Extraer características a partir de block1.features\n",
        "\n",
        "    # Aplicar self.best_classifier_data[1].transform()\n",
        "\n",
        "    # Hacer self.best_classifier_data[4].predict()\n",
        "    pass\n",
        "\n",
        "  def export_classifier(self):\n",
        "      try:\n",
        "        pick_insert = open(f'{HOME}trained_models/{self.block1.dataset}/{self.identifier}.pkl', 'wb')\n",
        "        pickle.dump(self, pick_insert)\n",
        "        pick_insert.close()\n",
        "      except:\n",
        "        print(f'Could not save {self.identifier}.pkl')\n",
        "    "
      ],
      "metadata": {
        "id": "mZLnzQYzy8d0"
      },
      "execution_count": null,
      "outputs": []
    },
    {
      "cell_type": "markdown",
      "source": [
        "Ejemplo de uso"
      ],
      "metadata": {
        "id": "hvnKwuz82Hc0"
      }
    },
    {
      "cell_type": "code",
      "source": [
        "autopr = AutoPR(f'{HOME}parameters.json', load_database=True, load_features=True, save=True)"
      ],
      "metadata": {
        "id": "NAxZyaWy2ITK"
      },
      "execution_count": null,
      "outputs": []
    },
    {
      "cell_type": "code",
      "source": [
        "autopr.best_classifier_data"
      ],
      "metadata": {
        "colab": {
          "base_uri": "https://localhost:8080/"
        },
        "id": "6SSJmTvt3ZRc",
        "outputId": "d5d60371-0621-494f-e767-b4e8bf21b1c7"
      },
      "execution_count": null,
      "outputs": [
        {
          "output_type": "execute_result",
          "data": {
            "text/plain": [
              "(0.8229166666666666,\n",
              " <__main__.Block4 at 0x7f9c26bb4150>,\n",
              " sklearn.svm._classes.SVC,\n",
              " {'C': 1.0, 'kernel': 'rbf'},\n",
              " 'SVC-kernel:rbf-C:1',\n",
              " SVC())"
            ]
          },
          "metadata": {},
          "execution_count": 24
        }
      ]
    },
    {
      "cell_type": "code",
      "source": [
        "autopr.identifier"
      ],
      "metadata": {
        "colab": {
          "base_uri": "https://localhost:8080/",
          "height": 35
        },
        "id": "mTAoFKkBjgNk",
        "outputId": "6b58c544-dc25-49e5-8f5e-c023c3a38158"
      },
      "execution_count": null,
      "outputs": [
        {
          "output_type": "execute_result",
          "data": {
            "text/plain": [
              "'Espinas_HOG-5x5x9+LBP-8x8_MINMAX+SFS-8_SVC-kernel:rbf-C:1'"
            ],
            "application/vnd.google.colaboratory.intrinsic+json": {
              "type": "string"
            }
          },
          "metadata": {},
          "execution_count": 25
        }
      ]
    },
    {
      "cell_type": "markdown",
      "source": [
        "# Log AutoPR"
      ],
      "metadata": {
        "id": "9YfvKb_pjkbz"
      }
    },
    {
      "cell_type": "code",
      "source": [
        "import csv"
      ],
      "metadata": {
        "id": "lS8wL6dHnpRU"
      },
      "execution_count": null,
      "outputs": []
    },
    {
      "cell_type": "code",
      "source": [
        "def autopr_data_to_csv(autopr: AutoPR, path: str=f'{HOME}results.csv', echo=False):\n",
        "  with open(path, 'a', newline='') as fil:\n",
        "    acc, *rest, clas = autopr.best_classifier_data\n",
        "    row = [autopr.block1.dataset, autopr.block1.features, autopr.best_classifier_data[1].sequence, clas, acc, autopr.identifier]\n",
        "    if echo:\n",
        "      print(row)\n",
        "    writer = csv.writer(fil, delimiter=',')\n",
        "    writer.writerow(row)\n",
        "\n",
        "## autopr_data_to_csv(autopr, echo=True)"
      ],
      "metadata": {
        "colab": {
          "base_uri": "https://localhost:8080/"
        },
        "id": "UGNRfTSFjpNJ",
        "outputId": "f869e237-4071-4627-843e-03f70e9d04e0"
      },
      "execution_count": null,
      "outputs": [
        {
          "output_type": "stream",
          "name": "stdout",
          "text": [
            "['Espinas', ['HOG-5x5x9', 'LBP-8x8'], ['MINMAX', 'SFS-8'], SVC(), 0.8229166666666666, 'Espinas_HOG-5x5x9+LBP-8x8_MINMAX+SFS-8_SVC-kernel:rbf-C:1']\n"
          ]
        }
      ]
    }
  ],
  "metadata": {
    "interpreter": {
      "hash": "6189f557f5bc4df41e92f7a00b3721572a07e07697aeafd1cb02e690e443f281"
    },
    "kernelspec": {
      "display_name": "Python 3.9.4 64-bit",
      "language": "python",
      "name": "python3"
    },
    "language_info": {
      "codemirror_mode": {
        "name": "ipython",
        "version": 3
      },
      "file_extension": ".py",
      "mimetype": "text/x-python",
      "name": "python",
      "nbconvert_exporter": "python",
      "pygments_lexer": "ipython3",
      "version": "3.9.4"
    },
    "orig_nbformat": 4,
    "colab": {
      "name": "base.ipynb",
      "provenance": [],
      "collapsed_sections": []
    }
  },
  "nbformat": 4,
  "nbformat_minor": 0
}