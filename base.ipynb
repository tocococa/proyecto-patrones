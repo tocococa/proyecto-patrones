{
  "cells": [
    {
      "cell_type": "code",
      "execution_count": 1,
      "metadata": {
        "id": "j2A7EsDgUZWE"
      },
      "outputs": [],
      "source": [
        "import cv2\n",
        "import os\n",
        "import pickle\n",
        "import numpy as np\n",
        "import PIL as pil\n",
        "from tqdm.auto import tqdm"
      ]
    },
    {
      "cell_type": "code",
      "source": [
        "import os\n",
        "from google.colab import drive\n",
        "drive.mount('/content/drive', force_remount=True)"
      ],
      "metadata": {
        "colab": {
          "base_uri": "https://localhost:8080/"
        },
        "id": "BQjqoOMgV4TI",
        "outputId": "11ad1314-3e4b-4d8b-c1f7-4f8097ba5642"
      },
      "execution_count": 2,
      "outputs": [
        {
          "output_type": "stream",
          "name": "stdout",
          "text": [
            "Mounted at /content/drive\n"
          ]
        }
      ]
    },
    {
      "cell_type": "markdown",
      "source": [
        "## Drive files\n",
        "\n",
        "1. Aceptar invitación a la unidad compartida Patrones2022\n",
        "\n",
        "2. Abrir la unidad, y sobre la carpeta `home`, hacer click derecho y luego \"Añadir acceso directo a Drive\".\n",
        "\n",
        "Si eso funcionó, al ejecutar la siguiente celda, debería verse `db_caracteristicas raw_database  trained_models` en el output."
      ],
      "metadata": {
        "id": "culpx2NQWV_H"
      }
    },
    {
      "cell_type": "code",
      "source": [
        "HOME = \"/content/drive/My Drive/home/\"\n",
        "!ls \"{HOME}\""
      ],
      "metadata": {
        "colab": {
          "base_uri": "https://localhost:8080/"
        },
        "id": "1Sq2Th8bWRgp",
        "outputId": "978bbbdd-91e7-4e29-a927-b14b8814dd2b"
      },
      "execution_count": 3,
      "outputs": [
        {
          "output_type": "stream",
          "name": "stdout",
          "text": [
            "db_caracteristicas  pickled_database  raw_database  trained_models\n"
          ]
        }
      ]
    },
    {
      "cell_type": "code",
      "source": [
        "!ls \"{HOME}/raw_database\""
      ],
      "metadata": {
        "colab": {
          "base_uri": "https://localhost:8080/"
        },
        "id": "Cki2PHBWyK_k",
        "outputId": "aa16c523-83e7-48e3-8874-c80ac8ddeb36"
      },
      "execution_count": 4,
      "outputs": [
        {
          "output_type": "stream",
          "name": "stdout",
          "text": [
            "Bicicletas  Cachipun  Espinas  Letras  Lunares\n"
          ]
        }
      ]
    },
    {
      "cell_type": "code",
      "execution_count": 5,
      "metadata": {
        "id": "U5ZXIY4JUZWL"
      },
      "outputs": [],
      "source": [
        "def LoadImage(path: str, cmap: str = 'gray', echo: bool = True) -> np.ndarray:\n",
        "    \"\"\"\n",
        "    Load an image from a path\n",
        "    \"\"\"\n",
        "    if cmap == 'gray':\n",
        "      cflag = cv2.IMREAD_GRAYSCALE\n",
        "    elif cmap == 'rgb':\n",
        "      cflag = cv2.IMREAD_COLOR\n",
        "    else:\n",
        "      print(f\"{cmap} is not a valid option\")\n",
        "      raise AttributeError\n",
        "    if echo:\n",
        "      print(\"Image: \" + path)\n",
        "    img = cv2.imread(path, cflag)\n",
        "    if echo:\n",
        "      print(\"Image size:\", img.shape)\n",
        "    return img\n",
        "\n",
        "\n",
        "def NofClasses(path: str) -> int:\n",
        "    \"\"\"\n",
        "    Get the classes in a directory\n",
        "    \"\"\"\n",
        "    return len(os.listdir(path)) - 1\n",
        "\n",
        "\n",
        "def NofSamples(path: str) -> list:\n",
        "    \"\"\"\n",
        "    Get the number of samples for each class\n",
        "    \"\"\"\n",
        "    samples = []\n",
        "    for subdir in os.listdir(path):\n",
        "        samples.append(len(os.listdir(path + subdir)))\n",
        "    return samples\n",
        "\n",
        "\n",
        "def GetMinDim(path: str) -> tuple:\n",
        "  \"\"\"\n",
        "  Returns the smallest dimensions from every image in path.\n",
        "  Path must be a nonempty folder, with at least one folder with images.\n",
        "  \"\"\"\n",
        "  minh = None\n",
        "  minw = None\n",
        "  for dir in os.listdir(path):\n",
        "    for fil in os.listdir(path+dir):\n",
        "      h, w = LoadImage(path + dir + '/' + fil, cmap=cmap, echo=echo).shape\n",
        "      if not minh or h < minh:\n",
        "        minh = h\n",
        "      if not minw or w < minw:\n",
        "        minw = w\n",
        "      break\n",
        "  return (minw, minh)\n",
        "\n",
        "\n",
        "def BuildDataset(path: str, cmap: str = 'gray', echo: bool = False) -> tuple:\n",
        "    \"\"\"\n",
        "    Build a dataset from a directory, returns a tuple (X, y, #clas, [#sam])\n",
        "    \"\"\"\n",
        "    imdim = GetMinDim(path)\n",
        "    if echo:\n",
        "      print(f\"Smallest image size: {imdim}\")\n",
        "    classes = NofClasses(path)\n",
        "    samples = NofSamples(path)\n",
        "    Xsam = np.zeros((sum(samples), imdim[1], imdim[0]))\n",
        "    Ysam = np.zeros((sum(samples), 1))\n",
        "    i = 0\n",
        "    ii = 0\n",
        "    echo = True\n",
        "    for dir in os.listdir(path):\n",
        "        for fil in tqdm(os.listdir(path + dir)):\n",
        "            if fil == '.DS_Store':\n",
        "              continue\n",
        "            img = LoadImage(path + dir + '/' + fil, cmap=cmap, echo=echo)\n",
        "            img = cv2.resize(img, imdim, interpolation = cv2.INTER_AREA) \n",
        "            Xsam[ii] = img\n",
        "            echo = False\n",
        "            Ysam[ii] = i\n",
        "            ii += 1\n",
        "        i += 1\n",
        "    return (Xsam, Ysam, classes, samples)\n",
        "    "
      ]
    },
    {
      "cell_type": "code",
      "source": [
        "%%script echo skipping\n",
        "\n",
        "datasets = [\"Bicicletas\", \"Cachipun\", \"Espinas\", \"Letras\", \"Lunares\"]\n",
        "\n",
        "for DSNAME in datasets:\n",
        "  out = BuildDataset(f\"{HOME}raw_database/{DSNAME}/\", echo=True)\n",
        "  Xsam, Ysam, clas, sam = out\n",
        "\n",
        "  pick_insert = open(f'{HOME}pickled_database/{DSNAME}/Xsam.pkl', 'wb')\n",
        "  pickle.dump(Xasam, pick_insert)\n",
        "  pick_insert.close()\n",
        "\n",
        "  pick_insert = open(f'{HOME}pickled_database/{DSNAME}/Ysam.pkl', 'wb')\n",
        "  pickle.dump(Ysam, pick_insert)\n",
        "  pick_insert.close()\n",
        "\n",
        "  pick_insert = open(f'{HOME}pickled_database/{DSNAME}/clas.pkl', 'wb')\n",
        "  pickle.dump(clas, pick_insert)\n",
        "  pick_insert.close()\n",
        "\n",
        "  pick_insert = open(f'{HOME}pickled_database/{DSNAME}/sam.pkl', 'wb')\n",
        "  pickle.dump(sam, pick_insert)\n",
        "  pick_insert.close()"
      ],
      "metadata": {
        "colab": {
          "base_uri": "https://localhost:8080/"
        },
        "id": "dss93f4xx_nG",
        "outputId": "93503c6e-f39b-49ad-d187-e0af84fcd51d"
      },
      "execution_count": 7,
      "outputs": [
        {
          "output_type": "stream",
          "name": "stdout",
          "text": [
            "skipping\n"
          ]
        }
      ]
    },
    {
      "cell_type": "code",
      "source": [
        ""
      ],
      "metadata": {
        "id": "LlmrFWZ8hUnv"
      },
      "execution_count": null,
      "outputs": []
    },
    {
      "cell_type": "markdown",
      "source": [
        "## Bloque 4\n",
        "- Split Train-Validation\n",
        "- Aplicación secuencial de alguna selección/transformación\n",
        "  - Clean\n",
        "  - MinMax Scaling\n",
        "  - SelectKBest\n",
        "  - SFS\n",
        "  - PCA\n",
        "  - ICA"
      ],
      "metadata": {
        "id": "N1flNF6VEERS"
      }
    },
    {
      "cell_type": "code",
      "source": [
        "from IPython.display import clear_output\n",
        "!pip3 install scipy==1.2\n",
        "!pip3 install pybalu==0.2.5\n",
        "clear_output()"
      ],
      "metadata": {
        "id": "rYji24WdF6Pe"
      },
      "execution_count": 4,
      "outputs": []
    },
    {
      "cell_type": "code",
      "source": [
        "from sklearn.model_selection import train_test_split\n",
        "from pybalu.feature_selection import clean\n",
        "from sklearn.preprocessing import MinMaxScaler\n",
        "from sklearn.feature_selection import SelectKBest, chi2\n",
        "from pybalu.feature_selection import sfs\n",
        "from sklearn.decomposition import PCA, FastICA"
      ],
      "metadata": {
        "id": "NVNNFHwbKdeh"
      },
      "execution_count": 5,
      "outputs": []
    },
    {
      "cell_type": "code",
      "source": [
        "class CleanInterface:\n",
        "\n",
        "  def __init__(self, X):\n",
        "    self.model = clean(X)\n",
        "\n",
        "  def transform(self, X):\n",
        "    return X[:, self.model]\n",
        "\n",
        "class SFSInterface:\n",
        "\n",
        "  def __init__(self, X, y, s):\n",
        "    self.model = sfs(X, y, s, show=False)\n",
        "\n",
        "  def transform(self, X):\n",
        "    return X[:, self.model]"
      ],
      "metadata": {
        "id": "wPSGbmLbOndK"
      },
      "execution_count": 6,
      "outputs": []
    },
    {
      "cell_type": "code",
      "source": [
        "class Block4:\n",
        "\n",
        "  def __init__(self, X, y, sequence, ratio=0.3):\n",
        "\n",
        "    self.sequence = sequence\n",
        "\n",
        "    self.models = []\n",
        "\n",
        "    self.Xtrain, self.Xval, self.ytrain, self.yval = train_test_split(np.array(X), y, test_size=ratio, random_state=42, stratify=y)\n",
        "\n",
        "    self.Xtrain = self.interative_fit()\n",
        "    self.Xval = self.transform(self.Xval)\n",
        "\n",
        "  def interative_fit(self):\n",
        "\n",
        "    X = self.Xtrain\n",
        "\n",
        "    for seq in self.sequence:\n",
        "\n",
        "      name = seq.split('-')[0]\n",
        "\n",
        "      if name == 'CLEAN':\n",
        "        model = CleanInterface(X)\n",
        "      elif name == 'MINMAX':\n",
        "        model = MinMaxScaler().fit(X)\n",
        "      else: \n",
        "        param = int(seq.split('-')[1])\n",
        "        if name == 'KBEST':\n",
        "          model = SelectKBest(chi2, k=param).fit(X, self.ytrain)\n",
        "        elif name == 'SFS':\n",
        "          model = SFSInterface(X, self.ytrain, param)\n",
        "        elif name == 'PCA':\n",
        "          model = PCA(n_components=param).fit(X)\n",
        "        elif name == 'ICA':\n",
        "          model = FastICA(n_components=param, random_state=0).fit(X, self.ytrain)\n",
        "        else:\n",
        "          model = None\n",
        "          print(f'No existe el modelo {name}')\n",
        "\n",
        "      self.models.append(model)\n",
        "      X = model.transform(X)\n",
        "\n",
        "    return X\n",
        "  \n",
        "  def transform(self, X):\n",
        "\n",
        "    for model in self.models:\n",
        "      X = model.transform(X)\n",
        "    return X"
      ],
      "metadata": {
        "id": "qYdP2hn7GEeo"
      },
      "execution_count": 66,
      "outputs": []
    },
    {
      "cell_type": "code",
      "source": [
        "# DATOS DE PRUEBA\n",
        "!gdown --id 1CA-l9_JjdjG_4kTuavKf8Wm27dt0jyqT\n",
        "clear_output()\n",
        "\n",
        "f = open('data.p', \"rb\")\n",
        "data = pickle.load(f)\n",
        "X = data['train']\n",
        "\n",
        "y = np.array([0 if i < 7000 else 1 for i in range(0, 14000)])\n",
        "\n",
        "X.shape, len(y)"
      ],
      "metadata": {
        "colab": {
          "base_uri": "https://localhost:8080/"
        },
        "id": "e3N8G2DVGJiA",
        "outputId": "50d51bd1-06bd-460c-88e9-357e3be28d41"
      },
      "execution_count": 71,
      "outputs": [
        {
          "output_type": "execute_result",
          "data": {
            "text/plain": [
              "((14000, 1844), 14000)"
            ]
          },
          "metadata": {},
          "execution_count": 71
        }
      ]
    },
    {
      "cell_type": "code",
      "source": [
        "block = Block4(np.array(X), y, ['CLEAN', 'MINMAX', 'KBEST-50', 'SFS-10', 'PCA-5', 'ICA-2'])\n",
        "block.Xtrain.shape, block.Xval.shape"
      ],
      "metadata": {
        "colab": {
          "base_uri": "https://localhost:8080/"
        },
        "id": "vxZu_HFjM7rE",
        "outputId": "128fb986-4f6b-4d8f-ff3f-f5d2638f3856"
      },
      "execution_count": 72,
      "outputs": [
        {
          "output_type": "stream",
          "name": "stdout",
          "text": [
            "(9800, 1844) (4200, 1844) (9800,) (4200,)\n"
          ]
        },
        {
          "output_type": "execute_result",
          "data": {
            "text/plain": [
              "((9800, 2), (4200, 2))"
            ]
          },
          "metadata": {},
          "execution_count": 72
        }
      ]
    },
    {
      "cell_type": "code",
      "source": [
        ""
      ],
      "metadata": {
        "id": "JMknPWDrGZDQ"
      },
      "execution_count": 11,
      "outputs": []
    },
    {
      "cell_type": "code",
      "source": [
        ""
      ],
      "metadata": {
        "id": "-8xaggiSGV1X"
      },
      "execution_count": null,
      "outputs": []
    }
  ],
  "metadata": {
    "interpreter": {
      "hash": "6189f557f5bc4df41e92f7a00b3721572a07e07697aeafd1cb02e690e443f281"
    },
    "kernelspec": {
      "display_name": "Python 3.9.4 64-bit",
      "language": "python",
      "name": "python3"
    },
    "language_info": {
      "codemirror_mode": {
        "name": "ipython",
        "version": 3
      },
      "file_extension": ".py",
      "mimetype": "text/x-python",
      "name": "python",
      "nbconvert_exporter": "python",
      "pygments_lexer": "ipython3",
      "version": "3.9.4"
    },
    "orig_nbformat": 4,
    "colab": {
      "name": "base.ipynb",
      "provenance": [],
      "collapsed_sections": []
    }
  },
  "nbformat": 4,
  "nbformat_minor": 0
}